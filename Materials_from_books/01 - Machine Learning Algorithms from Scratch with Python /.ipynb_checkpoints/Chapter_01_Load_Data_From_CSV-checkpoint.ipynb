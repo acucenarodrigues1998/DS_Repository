{
 "cells": [
  {
   "cell_type": "markdown",
   "metadata": {},
   "source": [
    "# Chapter 01 - Load Data From CSV"
   ]
  },
  {
   "cell_type": "code",
   "execution_count": 1,
   "metadata": {},
   "outputs": [],
   "source": [
    "# The reader() function is part of the CSV module\n",
    "from csv import reader "
   ]
  },
  {
   "cell_type": "markdown",
   "metadata": {},
   "source": [
    "## Functions to load CSV files"
   ]
  },
  {
   "cell_type": "markdown",
   "metadata": {},
   "source": [
    "#### First version of load csv version. Bug: read empty lines"
   ]
  },
  {
   "cell_type": "code",
   "execution_count": 5,
   "metadata": {},
   "outputs": [],
   "source": [
    "# Load a CSV file\n",
    "def load_csv_v01(filename):\n",
    "    # Open the file\n",
    "    file = open(filename, \"r\") \n",
    "    # The function reader() reads the lines of the file\n",
    "    lines = reader(file)\n",
    "    # Transform the data in a list of lists\n",
    "    # First list: lines of dataset\n",
    "    # Second list: values for columns of dataset\n",
    "    dataset = list(lines)\n",
    "    return dataset"
   ]
  },
  {
   "cell_type": "markdown",
   "metadata": {},
   "source": [
    "#### Test version 01"
   ]
  },
  {
   "cell_type": "code",
   "execution_count": 6,
   "metadata": {},
   "outputs": [
    {
     "name": "stdout",
     "output_type": "stream",
     "text": [
      "Loaded data file ./data/pima-indians-diabetes.csv with 768 rows and 9 columns.\n"
     ]
    }
   ],
   "source": [
    "# Load dataset\n",
    "filename = './data/pima-indians-diabetes.csv'\n",
    "dataset = load_csv_v01(filename)\n",
    "print('Loaded data file {0} with {1} rows and {2} columns.'\n",
    "      .format(filename, len(dataset), len(dataset[0])))"
   ]
  },
  {
   "cell_type": "code",
   "execution_count": 7,
   "metadata": {},
   "outputs": [],
   "source": [
    "# Load a CSV file\n",
    "def load_csv_v02(filename):\n",
    "    # Create a list to store the rows of data\n",
    "    dataset = list() \n",
    "    # With is used when we need close some resources after use\n",
    "    # Equivalent to try...finally\n",
    "    with open(filename, 'r') as file:\n",
    "        csv_reader = reader(file)\n",
    "        # Iterate by the dataset rows\n",
    "        for row in csv_reader:\n",
    "            # If it's an empty row, ignore\n",
    "            if not row:\n",
    "                continue \n",
    "            # If it's not an empty row, add to a list\n",
    "            dataset.append(row)\n",
    "    return dataset"
   ]
  },
  {
   "cell_type": "code",
   "execution_count": 8,
   "metadata": {},
   "outputs": [
    {
     "name": "stdout",
     "output_type": "stream",
     "text": [
      "Loaded data file ./data/pima-indians-diabetes.csv with 768 rows and 9 columns.\n"
     ]
    }
   ],
   "source": [
    "# Load dataset\n",
    "filename = './data/pima-indians-diabetes.csv'\n",
    "dataset = load_csv_v02(filename)\n",
    "print('Loaded data file {0} with {1} rows and {2} columns.'\n",
    "      .format(filename, len(dataset), len(dataset[0])))"
   ]
  },
  {
   "cell_type": "code",
   "execution_count": null,
   "metadata": {},
   "outputs": [],
   "source": []
  }
 ],
 "metadata": {
  "kernelspec": {
   "display_name": "Python 3",
   "language": "python",
   "name": "python3"
  },
  "language_info": {
   "codemirror_mode": {
    "name": "ipython",
    "version": 3
   },
   "file_extension": ".py",
   "mimetype": "text/x-python",
   "name": "python",
   "nbconvert_exporter": "python",
   "pygments_lexer": "ipython3",
   "version": "3.8.5"
  }
 },
 "nbformat": 4,
 "nbformat_minor": 4
}
