{
 "metadata": {
  "language_info": {
   "codemirror_mode": {
    "name": "ipython",
    "version": 3
   },
   "file_extension": ".py",
   "mimetype": "text/x-python",
   "name": "python",
   "nbconvert_exporter": "python",
   "pygments_lexer": "ipython3",
   "version": "3.8.5-final"
  },
  "orig_nbformat": 2,
  "kernelspec": {
   "name": "python3",
   "display_name": "Python 3",
   "language": "python"
  }
 },
 "nbformat": 4,
 "nbformat_minor": 2,
 "cells": [
  {
   "source": [
    "# Chapter 18 - Stacked Generalization\n",
    "\n",
    "### Submodels and Aggregator\n",
    "\n",
    "#### Submodel #1: KNN"
   ],
   "cell_type": "markdown",
   "metadata": {}
  },
  {
   "cell_type": "code",
   "execution_count": 3,
   "metadata": {},
   "outputs": [],
   "source": [
    "from math import sqrt"
   ]
  },
  {
   "cell_type": "code",
   "execution_count": 2,
   "metadata": {},
   "outputs": [],
   "source": [
    "# Prepare the KNN model\n",
    "def knn_model(train):\n",
    "    return train"
   ]
  },
  {
   "cell_type": "code",
   "execution_count": 4,
   "metadata": {},
   "outputs": [],
   "source": [
    "# Calculate the Euclidean distance between two vectors\n",
    "def euclidean_distance(row1, row2):\n",
    "    distance = 0.0\n",
    "    for i in range(len(row1)-1):\n",
    "        distance += (row1[i]-row2[i])**2\n",
    "    return sqrt(distance)"
   ]
  },
  {
   "cell_type": "code",
   "execution_count": 5,
   "metadata": {},
   "outputs": [],
   "source": [
    "# Locate neighbors for a new row\n",
    "def get_neighbors(train, test_row, num_neighbors):\n",
    "    distances = list()\n",
    "    for train_row in train:\n",
    "        dist = euclidean_distance(test_row, train_row)\n",
    "        distances.append((train_row, dist))\n",
    "    distances.sort(key=lambda tup: tup[1])\n",
    "    neighbors = list()\n",
    "    for i in range(num_neighbors):\n",
    "        neighbors.append(distances[i][0])\n",
    "    return neighbors"
   ]
  },
  {
   "cell_type": "code",
   "execution_count": 6,
   "metadata": {},
   "outputs": [],
   "source": [
    "# Make a prediction with KNN\n",
    "def knn_predict(model, test_row, num_neighbors=2):\n",
    "    neighbors = get_neighbors(model, test_row, num_neighbors)\n",
    "    output_values = [row[-1] for row in neighbors]\n",
    "    prediction = max(set(output_values), key=output_values.count)\n",
    "    return prediction"
   ]
  },
  {
   "source": [
    "#### Submodel #2: Perceptron"
   ],
   "cell_type": "markdown",
   "metadata": {}
  },
  {
   "cell_type": "code",
   "execution_count": 7,
   "metadata": {},
   "outputs": [],
   "source": [
    "# Make a prediction with weights\n",
    "def perceptron_predict(model, row):\n",
    "    activation = model[0]\n",
    "    for i in range(len(row)-1):\n",
    "        activation += model[i + 1] * row[i]\n",
    "    return 1.0 if activation >= 0.0 else 0.0"
   ]
  },
  {
   "cell_type": "code",
   "execution_count": 8,
   "metadata": {},
   "outputs": [],
   "source": [
    "# Estimate perceptron weights using stochastic gradient descent\n",
    "def perceptron_model(train, l_rate=0.01, n_epoch=5000):\n",
    "    weights = [0.0 for i in range(len(train[0]))]\n",
    "    for epoch in range(n_epoch):\n",
    "        for row in train:\n",
    "            prediction = perceptron_predict(weights, row)\n",
    "            error = row[-1] - prediction\n",
    "            weights[0] = weights[0] +l_rate * error\n",
    "            for i in range(len(row)-1):\n",
    "                weights[i + 1] = weights[i + 1] + l_rate * error * row[i] \n",
    "    return weights"
   ]
  },
  {
   "source": [
    "#### Aggregator Model: Logistic Regression"
   ],
   "cell_type": "markdown",
   "metadata": {}
  },
  {
   "cell_type": "code",
   "execution_count": 10,
   "metadata": {},
   "outputs": [],
   "source": [
    "from math import exp"
   ]
  },
  {
   "cell_type": "code",
   "execution_count": 9,
   "metadata": {},
   "outputs": [],
   "source": [
    "# Make a prediction with coefficients\n",
    "def logistic_regression_predict(model, row):\n",
    "    yhat = model[0]\n",
    "    for i in range(len(row)-1):\n",
    "        yhat += model[i+1] * row[i]\n",
    "    return 1.0 / (1.0 + exp(-yhat))"
   ]
  },
  {
   "cell_type": "code",
   "execution_count": 11,
   "metadata": {},
   "outputs": [],
   "source": [
    "# Estimate logistic regression coefficients using stochastic gradient descent\n",
    "def logistic_regression_model(train, l_rate=0.01, n_epoch=5000):\n",
    "    coef = [0.0 for i in range(len(train[0]))]\n",
    "    for epoch in range(n_epoch):\n",
    "        for row in train:\n",
    "            yhat = logistic_regression_predict(coef, row)\n",
    "            error = row[-1] - yhat\n",
    "            coef[0] = coef[0] + l_rate * error * yhat * (1.0 - yhat)\n",
    "            for i in range(len(row)-1):\n",
    "                coef[i + 1] = coef[i + 1] + l_rate * error * yhat * (1.0 - yhat) * row[i]\n",
    "    return coef"
   ]
  },
  {
   "source": [
    "### Combining Predictions"
   ],
   "cell_type": "markdown",
   "metadata": {}
  },
  {
   "cell_type": "code",
   "execution_count": 12,
   "metadata": {},
   "outputs": [],
   "source": [
    "# Make predictions with sub-models and construct a new stacked row\n",
    "def to_stacked_row(models, predict_list, row):\n",
    "    stacked_row = list()\n",
    "    for i in range(len(models)):\n",
    "        prediction = predict_list[i](models[i], row)\n",
    "        stacked_row.append(prediction)\n",
    "    stacked_row.append(row[-1])\n",
    "    return row[0:len(row)-1] + stacked_row"
   ]
  },
  {
   "source": [
    "### Sonar Case Study"
   ],
   "cell_type": "markdown",
   "metadata": {}
  },
  {
   "cell_type": "code",
   "execution_count": 13,
   "metadata": {},
   "outputs": [],
   "source": [
    "from random import seed, randrange\n",
    "from Codes.ch01_load_and_convert_data import load_csv, str_column_to_float, str_column_to_int\n",
    "from Codes.ch06_algorithm_test_harnesses import evaluate_algorithm_kfold"
   ]
  },
  {
   "cell_type": "code",
   "execution_count": 14,
   "metadata": {},
   "outputs": [],
   "source": [
    "# Stacked Generalization Algorithm\n",
    "def stacking(train, test):\n",
    "    model_list = [knn_model, perceptron_model]\n",
    "    predict_list = [knn_predict, perceptron_predict]\n",
    "    models = list()\n",
    "    for i in range(len(model_list)):\n",
    "        model = model_list[i](train)\n",
    "        models.append(model)\n",
    "    stacked_dataset = list()\n",
    "    for row in train:\n",
    "        stacked_row = to_stacked_row(models, predict_list, row)\n",
    "        stacked_dataset.append(stacked_row)\n",
    "    stacked_model = logistic_regression_model(stacked_dataset)\n",
    "    predictions = list()\n",
    "    for row in test:\n",
    "        stacked_row = to_stacked_row(models, predict_list, row)\n",
    "        stacked_dataset.append(stacked_row)\n",
    "        prediction = logistic_regression_predict(stacked_model, stacked_row)\n",
    "        prediction = round(prediction)\n",
    "        predictions.append(prediction) \n",
    "    return predictions"
   ]
  },
  {
   "cell_type": "code",
   "execution_count": 15,
   "metadata": {},
   "outputs": [
    {
     "output_type": "stream",
     "name": "stdout",
     "text": [
      "Scores: [78.26086956521739, 76.81159420289855, 69.56521739130434]\nMean Accuracy: 74.879%\n"
     ]
    }
   ],
   "source": [
    "# Test stacking on the sonar dataset\n",
    "seed(1)\n",
    "\n",
    "# load and prepare data\n",
    "filename = './data/sonar.all-data.csv'\n",
    "dataset = load_csv(filename)\n",
    "\n",
    "# convert string attributes to integers\n",
    "for i in range(len(dataset[0])-1):\n",
    "    str_column_to_float(dataset, i)\n",
    "\n",
    "# convert class column to integers\n",
    "str_column_to_int(dataset, len(dataset[0])-1)\n",
    "\n",
    "n_folds = 3\n",
    "scores = evaluate_algorithm_kfold(dataset, stacking, n_folds)\n",
    "print('Scores: %s' % scores)\n",
    "print('Mean Accuracy: %.3f%%' % (sum(scores)/float(len(scores))))"
   ]
  },
  {
   "source": [
    "## Future Works\n",
    "\n",
    "* Tune Algorithms. The algorithms used for the submodels and the aggregate model in this tutorial were not tuned. Explore alternate configurations and see if you can further lift performance.\n",
    "* Prediction Correlations. Stacking works better if the predictions of submodels are weakly correlated. Implement calculations to estimate the correlation between the predictions of submodels.\n",
    "* Different Submodels. Implement more and different submodels to be combined using the stacking procedure.\n",
    "* Different Aggregating Model. Experiment with simpler models (like averaging and voting) and more complex aggregation models to see if you can boost performance.\n",
    "* More Datasets. Apply stacking to more datasets on the UCI Machine Learning Repository."
   ],
   "cell_type": "markdown",
   "metadata": {}
  }
 ]
}