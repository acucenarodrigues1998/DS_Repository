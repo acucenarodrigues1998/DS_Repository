{
 "metadata": {
  "language_info": {
   "codemirror_mode": {
    "name": "ipython",
    "version": 3
   },
   "file_extension": ".py",
   "mimetype": "text/x-python",
   "name": "python",
   "nbconvert_exporter": "python",
   "pygments_lexer": "ipython3",
   "version": "3.8.5-final"
  },
  "orig_nbformat": 2,
  "kernelspec": {
   "name": "python3",
   "display_name": "Python 3",
   "language": "python"
  }
 },
 "nbformat": 4,
 "nbformat_minor": 2,
 "cells": [
  {
   "source": [
    "# Chapter 09 - Logistic Regression\n",
    "\n",
    "$ylin = b_0 + b_1 * x_1$\n",
    "\n",
    "$yhat = \\frac{1.0}{1.0 + e^(-ylin)}$"
   ],
   "cell_type": "markdown",
   "metadata": {}
  },
  {
   "cell_type": "code",
   "execution_count": 1,
   "metadata": {},
   "outputs": [],
   "source": [
    "from random import seed\n",
    "from math import exp\n",
    "\n",
    "from Codes.ch01_load_and_convert_data import load_csv, str_column_to_float\n",
    "from Codes.ch02_scale_data_functions import dataset_minmax, normalize_dataset\n",
    "from Codes.ch03_resampling_methods import cross_validation_split\n",
    "from Codes.ch06_algorithm_test_harnesses import evaluate_algorithm_kfold"
   ]
  },
  {
   "source": [
    "### Making predictions"
   ],
   "cell_type": "markdown",
   "metadata": {}
  },
  {
   "cell_type": "code",
   "execution_count": 2,
   "metadata": {},
   "outputs": [],
   "source": [
    "# Make a prediction with coefficients\n",
    "def predict(row, coefficients):\n",
    "    yhat = coefficients[0]\n",
    "    for i in range(len(row)-1):\n",
    "        yhat += coefficients[i+1] * row[i]\n",
    "    return 1.0/(1.0 + exp(-yhat))"
   ]
  },
  {
   "cell_type": "code",
   "execution_count": 3,
   "metadata": {},
   "outputs": [
    {
     "output_type": "stream",
     "name": "stdout",
     "text": [
      "Expected=0.000, Predicted=0.299 [0]\nExpected=0.000, Predicted=0.146 [0]\nExpected=0.000, Predicted=0.085 [0]\nExpected=0.000, Predicted=0.220 [0]\nExpected=0.000, Predicted=0.247 [0]\nExpected=1.000, Predicted=0.955 [1]\nExpected=1.000, Predicted=0.862 [1]\nExpected=1.000, Predicted=0.972 [1]\nExpected=1.000, Predicted=0.999 [1]\nExpected=1.000, Predicted=0.905 [1]\n"
     ]
    }
   ],
   "source": [
    "# Test predictions\n",
    "dataset = [[2.7810836,2.550537003,0],\n",
    "[1.465489372,2.362125076,0],\n",
    "[3.396561688,4.400293529,0],\n",
    "[1.38807019,1.850220317,0],\n",
    "[3.06407232,3.005305973,0],\n",
    "[7.627531214,2.759262235,1],\n",
    "[5.332441248,2.088626775,1],\n",
    "[6.922596716,1.77106367,1],\n",
    "[8.675418651,-0.242068655,1],\n",
    "[7.673756466,3.508563011,1]]\n",
    "coef = [-0.406605464, 0.852573316, -1.104746259]\n",
    "for row in dataset:\n",
    "    yhat = predict(row, coef)\n",
    "    print(\"Expected=%.3f, Predicted=%.3f [%d]\" % (row[-1], yhat, round(yhat)))"
   ]
  },
  {
   "source": [
    "### Estimating Coefficients\n",
    "\n",
    "$b_0(t+1) = b_0(t) + LR * (y(t) - yhat(t)) * yhat(t) * (1-yhat(y))$\n",
    "$b_n(t+1) = b_n(t) + LR * (y(t) - yhat(t)) * yhat(t) * (1-yhat(y)) * x_n(t)$"
   ],
   "cell_type": "markdown",
   "metadata": {}
  },
  {
   "cell_type": "code",
   "execution_count": 4,
   "metadata": {},
   "outputs": [],
   "source": [
    "# Estimate logistic regression coefficients using stochastic gradient descent\n",
    "def coefficients_sgd(train, l_rate, n_epoch):\n",
    "    coef = [0.0 for i in range(len(train[0]))]\n",
    "    for epoch in range(n_epoch):\n",
    "        sum_error = 0\n",
    "        for row in train:\n",
    "            yhat = predict(row, coef)\n",
    "            error = row[-1] - yhat\n",
    "            sum_error += error**2\n",
    "            for i in range(len(row)-1):\n",
    "                coef[i+1] = coef[i+1] + l_rate * error * yhat * (1.0 - yhat) * row[i]\n",
    "        print('>epoch=%d, lrate=%.3f, error=%.3f' % (epoch, l_rate, sum_error))\n",
    "    return coef  "
   ]
  },
  {
   "cell_type": "code",
   "execution_count": 5,
   "metadata": {},
   "outputs": [
    {
     "output_type": "stream",
     "name": "stdout",
     "text": [
      ">epoch=0, lrate=0.300, error=2.228\n>epoch=1, lrate=0.300, error=1.642\n>epoch=2, lrate=0.300, error=1.161\n>epoch=3, lrate=0.300, error=0.880\n>epoch=4, lrate=0.300, error=0.678\n>epoch=5, lrate=0.300, error=0.544\n>epoch=6, lrate=0.300, error=0.458\n>epoch=7, lrate=0.300, error=0.396\n>epoch=8, lrate=0.300, error=0.349\n>epoch=9, lrate=0.300, error=0.312\n>epoch=10, lrate=0.300, error=0.282\n>epoch=11, lrate=0.300, error=0.256\n>epoch=12, lrate=0.300, error=0.235\n>epoch=13, lrate=0.300, error=0.216\n>epoch=14, lrate=0.300, error=0.201\n>epoch=15, lrate=0.300, error=0.187\n>epoch=16, lrate=0.300, error=0.175\n>epoch=17, lrate=0.300, error=0.164\n>epoch=18, lrate=0.300, error=0.154\n>epoch=19, lrate=0.300, error=0.146\n>epoch=20, lrate=0.300, error=0.138\n>epoch=21, lrate=0.300, error=0.131\n>epoch=22, lrate=0.300, error=0.125\n>epoch=23, lrate=0.300, error=0.119\n>epoch=24, lrate=0.300, error=0.114\n>epoch=25, lrate=0.300, error=0.109\n>epoch=26, lrate=0.300, error=0.105\n>epoch=27, lrate=0.300, error=0.101\n>epoch=28, lrate=0.300, error=0.097\n>epoch=29, lrate=0.300, error=0.093\n>epoch=30, lrate=0.300, error=0.090\n>epoch=31, lrate=0.300, error=0.087\n>epoch=32, lrate=0.300, error=0.084\n>epoch=33, lrate=0.300, error=0.081\n>epoch=34, lrate=0.300, error=0.079\n>epoch=35, lrate=0.300, error=0.076\n>epoch=36, lrate=0.300, error=0.074\n>epoch=37, lrate=0.300, error=0.072\n>epoch=38, lrate=0.300, error=0.070\n>epoch=39, lrate=0.300, error=0.068\n>epoch=40, lrate=0.300, error=0.066\n>epoch=41, lrate=0.300, error=0.065\n>epoch=42, lrate=0.300, error=0.063\n>epoch=43, lrate=0.300, error=0.062\n>epoch=44, lrate=0.300, error=0.060\n>epoch=45, lrate=0.300, error=0.059\n>epoch=46, lrate=0.300, error=0.057\n>epoch=47, lrate=0.300, error=0.056\n>epoch=48, lrate=0.300, error=0.055\n>epoch=49, lrate=0.300, error=0.054\n>epoch=50, lrate=0.300, error=0.053\n>epoch=51, lrate=0.300, error=0.051\n>epoch=52, lrate=0.300, error=0.050\n>epoch=53, lrate=0.300, error=0.049\n>epoch=54, lrate=0.300, error=0.048\n>epoch=55, lrate=0.300, error=0.048\n>epoch=56, lrate=0.300, error=0.047\n>epoch=57, lrate=0.300, error=0.046\n>epoch=58, lrate=0.300, error=0.045\n>epoch=59, lrate=0.300, error=0.044\n>epoch=60, lrate=0.300, error=0.043\n>epoch=61, lrate=0.300, error=0.043\n>epoch=62, lrate=0.300, error=0.042\n>epoch=63, lrate=0.300, error=0.041\n>epoch=64, lrate=0.300, error=0.041\n>epoch=65, lrate=0.300, error=0.040\n>epoch=66, lrate=0.300, error=0.039\n>epoch=67, lrate=0.300, error=0.039\n>epoch=68, lrate=0.300, error=0.038\n>epoch=69, lrate=0.300, error=0.037\n>epoch=70, lrate=0.300, error=0.037\n>epoch=71, lrate=0.300, error=0.036\n>epoch=72, lrate=0.300, error=0.036\n>epoch=73, lrate=0.300, error=0.035\n>epoch=74, lrate=0.300, error=0.035\n>epoch=75, lrate=0.300, error=0.034\n>epoch=76, lrate=0.300, error=0.034\n>epoch=77, lrate=0.300, error=0.033\n>epoch=78, lrate=0.300, error=0.033\n>epoch=79, lrate=0.300, error=0.033\n>epoch=80, lrate=0.300, error=0.032\n>epoch=81, lrate=0.300, error=0.032\n>epoch=82, lrate=0.300, error=0.031\n>epoch=83, lrate=0.300, error=0.031\n>epoch=84, lrate=0.300, error=0.031\n>epoch=85, lrate=0.300, error=0.030\n>epoch=86, lrate=0.300, error=0.030\n>epoch=87, lrate=0.300, error=0.029\n>epoch=88, lrate=0.300, error=0.029\n>epoch=89, lrate=0.300, error=0.029\n>epoch=90, lrate=0.300, error=0.028\n>epoch=91, lrate=0.300, error=0.028\n>epoch=92, lrate=0.300, error=0.028\n>epoch=93, lrate=0.300, error=0.027\n>epoch=94, lrate=0.300, error=0.027\n>epoch=95, lrate=0.300, error=0.027\n>epoch=96, lrate=0.300, error=0.027\n>epoch=97, lrate=0.300, error=0.026\n>epoch=98, lrate=0.300, error=0.026\n>epoch=99, lrate=0.300, error=0.026\n[0.0, 1.5113773807403328, -2.5147248044060984]\n"
     ]
    }
   ],
   "source": [
    "# Calculate coefficients\n",
    "dataset = [[2.7810836,2.550537003,0],\n",
    "[1.465489372,2.362125076,0],\n",
    "[3.396561688,4.400293529,0],\n",
    "[1.38807019,1.850220317,0],\n",
    "[3.06407232,3.005305973,0],\n",
    "[7.627531214,2.759262235,1],\n",
    "[5.332441248,2.088626775,1],\n",
    "[6.922596716,1.77106367,1],\n",
    "[8.675418651,-0.242068655,1],\n",
    "[7.673756466,3.508563011,1]]\n",
    "l_rate = 0.3\n",
    "n_epoch = 100\n",
    "coef = coefficients_sgd(dataset, l_rate, n_epoch)\n",
    "print(coef)"
   ]
  },
  {
   "source": [
    "### Pima Indians Diabetes Case Study"
   ],
   "cell_type": "markdown",
   "metadata": {}
  },
  {
   "cell_type": "code",
   "execution_count": 6,
   "metadata": {},
   "outputs": [],
   "source": [
    "# Logistic Regression Algorithm with Stochastic Gradient Descent\n",
    "def logistic_regression(train, test, l_rate, n_epoch):\n",
    "    predictions = list()\n",
    "    coef = coefficients_sgd(train, l_rate, n_epoch)\n",
    "    for row in test:\n",
    "        yhat = predict(row, coef)\n",
    "        yhat = round(yhat)\n",
    "        predictions.append(yhat)\n",
    "    return predictions"
   ]
  },
  {
   "cell_type": "code",
   "execution_count": 10,
   "metadata": {},
   "outputs": [
    {
     "output_type": "stream",
     "name": "stdout",
     "text": [
      ">epoch=0, lrate=0.100, error=144.599\n>epoch=1, lrate=0.100, error=141.031\n>epoch=2, lrate=0.100, error=138.717\n>epoch=3, lrate=0.100, error=136.844\n>epoch=4, lrate=0.100, error=135.332\n>epoch=5, lrate=0.100, error=134.101\n>epoch=6, lrate=0.100, error=133.090\n>epoch=7, lrate=0.100, error=132.252\n>epoch=8, lrate=0.100, error=131.552\n>epoch=9, lrate=0.100, error=130.962\n>epoch=10, lrate=0.100, error=130.461\n>epoch=11, lrate=0.100, error=130.034\n>epoch=12, lrate=0.100, error=129.666\n>epoch=13, lrate=0.100, error=129.349\n>epoch=14, lrate=0.100, error=129.073\n>epoch=15, lrate=0.100, error=128.832\n>epoch=16, lrate=0.100, error=128.621\n>epoch=17, lrate=0.100, error=128.435\n>epoch=18, lrate=0.100, error=128.271\n>epoch=19, lrate=0.100, error=128.125\n>epoch=20, lrate=0.100, error=127.995\n>epoch=21, lrate=0.100, error=127.880\n>epoch=22, lrate=0.100, error=127.776\n>epoch=23, lrate=0.100, error=127.683\n>epoch=24, lrate=0.100, error=127.599\n>epoch=25, lrate=0.100, error=127.524\n>epoch=26, lrate=0.100, error=127.455\n>epoch=27, lrate=0.100, error=127.393\n>epoch=28, lrate=0.100, error=127.337\n>epoch=29, lrate=0.100, error=127.285\n>epoch=30, lrate=0.100, error=127.239\n>epoch=31, lrate=0.100, error=127.196\n>epoch=32, lrate=0.100, error=127.156\n>epoch=33, lrate=0.100, error=127.120\n>epoch=34, lrate=0.100, error=127.087\n>epoch=35, lrate=0.100, error=127.056\n>epoch=36, lrate=0.100, error=127.028\n>epoch=37, lrate=0.100, error=127.002\n>epoch=38, lrate=0.100, error=126.978\n>epoch=39, lrate=0.100, error=126.955\n>epoch=40, lrate=0.100, error=126.935\n>epoch=41, lrate=0.100, error=126.915\n>epoch=42, lrate=0.100, error=126.897\n>epoch=43, lrate=0.100, error=126.880\n>epoch=44, lrate=0.100, error=126.864\n>epoch=45, lrate=0.100, error=126.850\n>epoch=46, lrate=0.100, error=126.836\n>epoch=47, lrate=0.100, error=126.823\n>epoch=48, lrate=0.100, error=126.811\n>epoch=49, lrate=0.100, error=126.799\n>epoch=50, lrate=0.100, error=126.789\n>epoch=51, lrate=0.100, error=126.779\n>epoch=52, lrate=0.100, error=126.769\n>epoch=53, lrate=0.100, error=126.760\n>epoch=54, lrate=0.100, error=126.751\n>epoch=55, lrate=0.100, error=126.743\n>epoch=56, lrate=0.100, error=126.736\n>epoch=57, lrate=0.100, error=126.729\n>epoch=58, lrate=0.100, error=126.722\n>epoch=59, lrate=0.100, error=126.715\n>epoch=60, lrate=0.100, error=126.709\n>epoch=61, lrate=0.100, error=126.703\n>epoch=62, lrate=0.100, error=126.698\n>epoch=63, lrate=0.100, error=126.692\n>epoch=64, lrate=0.100, error=126.687\n>epoch=65, lrate=0.100, error=126.683\n>epoch=66, lrate=0.100, error=126.678\n>epoch=67, lrate=0.100, error=126.674\n>epoch=68, lrate=0.100, error=126.669\n>epoch=69, lrate=0.100, error=126.665\n>epoch=70, lrate=0.100, error=126.662\n>epoch=71, lrate=0.100, error=126.658\n>epoch=72, lrate=0.100, error=126.655\n>epoch=73, lrate=0.100, error=126.651\n>epoch=74, lrate=0.100, error=126.648\n>epoch=75, lrate=0.100, error=126.645\n>epoch=76, lrate=0.100, error=126.642\n>epoch=77, lrate=0.100, error=126.639\n>epoch=78, lrate=0.100, error=126.636\n>epoch=79, lrate=0.100, error=126.634\n>epoch=80, lrate=0.100, error=126.631\n>epoch=81, lrate=0.100, error=126.629\n>epoch=82, lrate=0.100, error=126.627\n>epoch=83, lrate=0.100, error=126.624\n>epoch=84, lrate=0.100, error=126.622\n>epoch=85, lrate=0.100, error=126.620\n>epoch=86, lrate=0.100, error=126.618\n>epoch=87, lrate=0.100, error=126.616\n>epoch=88, lrate=0.100, error=126.615\n>epoch=89, lrate=0.100, error=126.613\n>epoch=90, lrate=0.100, error=126.611\n>epoch=91, lrate=0.100, error=126.609\n>epoch=92, lrate=0.100, error=126.608\n>epoch=93, lrate=0.100, error=126.606\n>epoch=94, lrate=0.100, error=126.605\n>epoch=95, lrate=0.100, error=126.603\n>epoch=96, lrate=0.100, error=126.602\n>epoch=97, lrate=0.100, error=126.601\n>epoch=98, lrate=0.100, error=126.600\n>epoch=99, lrate=0.100, error=126.598\n>epoch=0, lrate=0.100, error=145.680\n>epoch=1, lrate=0.100, error=142.246\n>epoch=2, lrate=0.100, error=140.126\n>epoch=3, lrate=0.100, error=138.422\n>epoch=4, lrate=0.100, error=137.047\n>epoch=5, lrate=0.100, error=135.925\n>epoch=6, lrate=0.100, error=134.998\n>epoch=7, lrate=0.100, error=134.224\n>epoch=8, lrate=0.100, error=133.570\n>epoch=9, lrate=0.100, error=133.012\n>epoch=10, lrate=0.100, error=132.533\n>epoch=11, lrate=0.100, error=132.118\n>epoch=12, lrate=0.100, error=131.757\n>epoch=13, lrate=0.100, error=131.439\n>epoch=14, lrate=0.100, error=131.159\n>epoch=15, lrate=0.100, error=130.911\n>epoch=16, lrate=0.100, error=130.690\n>epoch=17, lrate=0.100, error=130.492\n>epoch=18, lrate=0.100, error=130.315\n>epoch=19, lrate=0.100, error=130.154\n>epoch=20, lrate=0.100, error=130.010\n>epoch=21, lrate=0.100, error=129.878\n>epoch=22, lrate=0.100, error=129.758\n>epoch=23, lrate=0.100, error=129.649\n>epoch=24, lrate=0.100, error=129.548\n>epoch=25, lrate=0.100, error=129.456\n>epoch=26, lrate=0.100, error=129.371\n>epoch=27, lrate=0.100, error=129.293\n>epoch=28, lrate=0.100, error=129.220\n>epoch=29, lrate=0.100, error=129.153\n>epoch=30, lrate=0.100, error=129.090\n>epoch=31, lrate=0.100, error=129.032\n>epoch=32, lrate=0.100, error=128.977\n>epoch=33, lrate=0.100, error=128.926\n>epoch=34, lrate=0.100, error=128.879\n>epoch=35, lrate=0.100, error=128.834\n>epoch=36, lrate=0.100, error=128.792\n>epoch=37, lrate=0.100, error=128.752\n>epoch=38, lrate=0.100, error=128.715\n>epoch=39, lrate=0.100, error=128.679\n>epoch=40, lrate=0.100, error=128.646\n>epoch=41, lrate=0.100, error=128.614\n>epoch=42, lrate=0.100, error=128.584\n>epoch=43, lrate=0.100, error=128.556\n>epoch=44, lrate=0.100, error=128.529\n>epoch=45, lrate=0.100, error=128.503\n>epoch=46, lrate=0.100, error=128.479\n>epoch=47, lrate=0.100, error=128.455\n>epoch=48, lrate=0.100, error=128.433\n>epoch=49, lrate=0.100, error=128.411\n>epoch=50, lrate=0.100, error=128.391\n>epoch=51, lrate=0.100, error=128.371\n>epoch=52, lrate=0.100, error=128.353\n>epoch=53, lrate=0.100, error=128.335\n>epoch=54, lrate=0.100, error=128.318\n>epoch=55, lrate=0.100, error=128.301\n>epoch=56, lrate=0.100, error=128.285\n>epoch=57, lrate=0.100, error=128.270\n>epoch=58, lrate=0.100, error=128.255\n>epoch=59, lrate=0.100, error=128.241\n>epoch=60, lrate=0.100, error=128.228\n>epoch=61, lrate=0.100, error=128.214\n>epoch=62, lrate=0.100, error=128.202\n>epoch=63, lrate=0.100, error=128.190\n>epoch=64, lrate=0.100, error=128.178\n>epoch=65, lrate=0.100, error=128.166\n>epoch=66, lrate=0.100, error=128.155\n>epoch=67, lrate=0.100, error=128.145\n>epoch=68, lrate=0.100, error=128.135\n>epoch=69, lrate=0.100, error=128.125\n>epoch=70, lrate=0.100, error=128.115\n>epoch=71, lrate=0.100, error=128.106\n>epoch=72, lrate=0.100, error=128.097\n>epoch=73, lrate=0.100, error=128.088\n>epoch=74, lrate=0.100, error=128.080\n>epoch=75, lrate=0.100, error=128.071\n>epoch=76, lrate=0.100, error=128.063\n>epoch=77, lrate=0.100, error=128.056\n>epoch=78, lrate=0.100, error=128.048\n>epoch=79, lrate=0.100, error=128.041\n>epoch=80, lrate=0.100, error=128.034\n>epoch=81, lrate=0.100, error=128.027\n>epoch=82, lrate=0.100, error=128.020\n>epoch=83, lrate=0.100, error=128.014\n>epoch=84, lrate=0.100, error=128.008\n>epoch=85, lrate=0.100, error=128.001\n>epoch=86, lrate=0.100, error=127.996\n>epoch=87, lrate=0.100, error=127.990\n>epoch=88, lrate=0.100, error=127.984\n>epoch=89, lrate=0.100, error=127.979\n>epoch=90, lrate=0.100, error=127.973\n>epoch=91, lrate=0.100, error=127.968\n>epoch=92, lrate=0.100, error=127.963\n>epoch=93, lrate=0.100, error=127.958\n>epoch=94, lrate=0.100, error=127.953\n>epoch=95, lrate=0.100, error=127.949\n>epoch=96, lrate=0.100, error=127.944\n>epoch=97, lrate=0.100, error=127.940\n>epoch=98, lrate=0.100, error=127.935\n>epoch=99, lrate=0.100, error=127.931\n>epoch=0, lrate=0.100, error=145.086\n>epoch=1, lrate=0.100, error=141.330\n>epoch=2, lrate=0.100, error=138.935\n>epoch=3, lrate=0.100, error=137.002\n>epoch=4, lrate=0.100, error=135.437\n>epoch=5, lrate=0.100, error=134.154\n>epoch=6, lrate=0.100, error=133.091\n>epoch=7, lrate=0.100, error=132.199\n>epoch=8, lrate=0.100, error=131.443\n>epoch=9, lrate=0.100, error=130.797\n>epoch=10, lrate=0.100, error=130.240\n>epoch=11, lrate=0.100, error=129.756\n>epoch=12, lrate=0.100, error=129.332\n>epoch=13, lrate=0.100, error=128.960\n>epoch=14, lrate=0.100, error=128.630\n>epoch=15, lrate=0.100, error=128.337\n>epoch=16, lrate=0.100, error=128.075\n>epoch=17, lrate=0.100, error=127.841\n>epoch=18, lrate=0.100, error=127.629\n>epoch=19, lrate=0.100, error=127.439\n>epoch=20, lrate=0.100, error=127.266\n>epoch=21, lrate=0.100, error=127.108\n>epoch=22, lrate=0.100, error=126.965\n>epoch=23, lrate=0.100, error=126.834\n>epoch=24, lrate=0.100, error=126.713\n>epoch=25, lrate=0.100, error=126.603\n>epoch=26, lrate=0.100, error=126.501\n>epoch=27, lrate=0.100, error=126.407\n>epoch=28, lrate=0.100, error=126.320\n>epoch=29, lrate=0.100, error=126.239\n>epoch=30, lrate=0.100, error=126.164\n>epoch=31, lrate=0.100, error=126.094\n>epoch=32, lrate=0.100, error=126.029\n>epoch=33, lrate=0.100, error=125.968\n>epoch=34, lrate=0.100, error=125.911\n>epoch=35, lrate=0.100, error=125.857\n>epoch=36, lrate=0.100, error=125.807\n>epoch=37, lrate=0.100, error=125.760\n>epoch=38, lrate=0.100, error=125.716\n>epoch=39, lrate=0.100, error=125.674\n>epoch=40, lrate=0.100, error=125.635\n>epoch=41, lrate=0.100, error=125.597\n>epoch=42, lrate=0.100, error=125.562\n>epoch=43, lrate=0.100, error=125.529\n>epoch=44, lrate=0.100, error=125.497\n>epoch=45, lrate=0.100, error=125.467\n>epoch=46, lrate=0.100, error=125.438\n>epoch=47, lrate=0.100, error=125.411\n>epoch=48, lrate=0.100, error=125.385\n>epoch=49, lrate=0.100, error=125.360\n>epoch=50, lrate=0.100, error=125.337\n>epoch=51, lrate=0.100, error=125.315\n>epoch=52, lrate=0.100, error=125.293\n>epoch=53, lrate=0.100, error=125.273\n>epoch=54, lrate=0.100, error=125.253\n>epoch=55, lrate=0.100, error=125.234\n>epoch=56, lrate=0.100, error=125.216\n>epoch=57, lrate=0.100, error=125.199\n>epoch=58, lrate=0.100, error=125.183\n>epoch=59, lrate=0.100, error=125.167\n>epoch=60, lrate=0.100, error=125.152\n>epoch=61, lrate=0.100, error=125.137\n>epoch=62, lrate=0.100, error=125.123\n>epoch=63, lrate=0.100, error=125.109\n>epoch=64, lrate=0.100, error=125.096\n>epoch=65, lrate=0.100, error=125.084\n>epoch=66, lrate=0.100, error=125.072\n>epoch=67, lrate=0.100, error=125.060\n>epoch=68, lrate=0.100, error=125.049\n>epoch=69, lrate=0.100, error=125.038\n>epoch=70, lrate=0.100, error=125.028\n>epoch=71, lrate=0.100, error=125.018\n>epoch=72, lrate=0.100, error=125.008\n>epoch=73, lrate=0.100, error=124.999\n>epoch=74, lrate=0.100, error=124.990\n>epoch=75, lrate=0.100, error=124.981\n>epoch=76, lrate=0.100, error=124.972\n>epoch=77, lrate=0.100, error=124.964\n>epoch=78, lrate=0.100, error=124.956\n>epoch=79, lrate=0.100, error=124.948\n>epoch=80, lrate=0.100, error=124.941\n>epoch=81, lrate=0.100, error=124.934\n>epoch=82, lrate=0.100, error=124.927\n>epoch=83, lrate=0.100, error=124.920\n>epoch=84, lrate=0.100, error=124.913\n>epoch=85, lrate=0.100, error=124.907\n>epoch=86, lrate=0.100, error=124.901\n>epoch=87, lrate=0.100, error=124.895\n>epoch=88, lrate=0.100, error=124.889\n>epoch=89, lrate=0.100, error=124.883\n>epoch=90, lrate=0.100, error=124.878\n>epoch=91, lrate=0.100, error=124.872\n>epoch=92, lrate=0.100, error=124.867\n>epoch=93, lrate=0.100, error=124.862\n>epoch=94, lrate=0.100, error=124.857\n>epoch=95, lrate=0.100, error=124.853\n>epoch=96, lrate=0.100, error=124.848\n>epoch=97, lrate=0.100, error=124.843\n>epoch=98, lrate=0.100, error=124.839\n>epoch=99, lrate=0.100, error=124.835\n>epoch=0, lrate=0.100, error=145.080\n>epoch=1, lrate=0.100, error=141.180\n>epoch=2, lrate=0.100, error=138.709\n>epoch=3, lrate=0.100, error=136.738\n>epoch=4, lrate=0.100, error=135.159\n>epoch=5, lrate=0.100, error=133.878\n>epoch=6, lrate=0.100, error=132.827\n>epoch=7, lrate=0.100, error=131.954\n>epoch=8, lrate=0.100, error=131.221\n>epoch=9, lrate=0.100, error=130.600\n>epoch=10, lrate=0.100, error=130.070\n>epoch=11, lrate=0.100, error=129.613\n>epoch=12, lrate=0.100, error=129.217\n>epoch=13, lrate=0.100, error=128.871\n>epoch=14, lrate=0.100, error=128.567\n>epoch=15, lrate=0.100, error=128.300\n>epoch=16, lrate=0.100, error=128.062\n>epoch=17, lrate=0.100, error=127.851\n>epoch=18, lrate=0.100, error=127.662\n>epoch=19, lrate=0.100, error=127.492\n>epoch=20, lrate=0.100, error=127.339\n>epoch=21, lrate=0.100, error=127.201\n>epoch=22, lrate=0.100, error=127.076\n>epoch=23, lrate=0.100, error=126.962\n>epoch=24, lrate=0.100, error=126.858\n>epoch=25, lrate=0.100, error=126.763\n>epoch=26, lrate=0.100, error=126.675\n>epoch=27, lrate=0.100, error=126.595\n>epoch=28, lrate=0.100, error=126.521\n>epoch=29, lrate=0.100, error=126.453\n>epoch=30, lrate=0.100, error=126.389\n>epoch=31, lrate=0.100, error=126.331\n>epoch=32, lrate=0.100, error=126.276\n>epoch=33, lrate=0.100, error=126.225\n>epoch=34, lrate=0.100, error=126.178\n>epoch=35, lrate=0.100, error=126.134\n>epoch=36, lrate=0.100, error=126.092\n>epoch=37, lrate=0.100, error=126.053\n>epoch=38, lrate=0.100, error=126.017\n>epoch=39, lrate=0.100, error=125.983\n>epoch=40, lrate=0.100, error=125.950\n>epoch=41, lrate=0.100, error=125.920\n>epoch=42, lrate=0.100, error=125.891\n>epoch=43, lrate=0.100, error=125.864\n>epoch=44, lrate=0.100, error=125.838\n>epoch=45, lrate=0.100, error=125.814\n>epoch=46, lrate=0.100, error=125.791\n>epoch=47, lrate=0.100, error=125.769\n>epoch=48, lrate=0.100, error=125.748\n>epoch=49, lrate=0.100, error=125.729\n>epoch=50, lrate=0.100, error=125.710\n>epoch=51, lrate=0.100, error=125.692\n>epoch=52, lrate=0.100, error=125.675\n>epoch=53, lrate=0.100, error=125.658\n>epoch=54, lrate=0.100, error=125.643\n>epoch=55, lrate=0.100, error=125.628\n>epoch=56, lrate=0.100, error=125.614\n>epoch=57, lrate=0.100, error=125.600\n>epoch=58, lrate=0.100, error=125.587\n>epoch=59, lrate=0.100, error=125.574\n>epoch=60, lrate=0.100, error=125.562\n>epoch=61, lrate=0.100, error=125.551\n>epoch=62, lrate=0.100, error=125.540\n>epoch=63, lrate=0.100, error=125.529\n>epoch=64, lrate=0.100, error=125.519\n>epoch=65, lrate=0.100, error=125.509\n>epoch=66, lrate=0.100, error=125.500\n>epoch=67, lrate=0.100, error=125.491\n>epoch=68, lrate=0.100, error=125.482\n>epoch=69, lrate=0.100, error=125.473\n>epoch=70, lrate=0.100, error=125.465\n>epoch=71, lrate=0.100, error=125.457\n>epoch=72, lrate=0.100, error=125.450\n>epoch=73, lrate=0.100, error=125.442\n>epoch=74, lrate=0.100, error=125.435\n>epoch=75, lrate=0.100, error=125.428\n>epoch=76, lrate=0.100, error=125.422\n>epoch=77, lrate=0.100, error=125.415\n>epoch=78, lrate=0.100, error=125.409\n>epoch=79, lrate=0.100, error=125.403\n>epoch=80, lrate=0.100, error=125.398\n>epoch=81, lrate=0.100, error=125.392\n>epoch=82, lrate=0.100, error=125.387\n>epoch=83, lrate=0.100, error=125.381\n>epoch=84, lrate=0.100, error=125.376\n>epoch=85, lrate=0.100, error=125.371\n>epoch=86, lrate=0.100, error=125.366\n>epoch=87, lrate=0.100, error=125.362\n>epoch=88, lrate=0.100, error=125.357\n>epoch=89, lrate=0.100, error=125.353\n>epoch=90, lrate=0.100, error=125.349\n>epoch=91, lrate=0.100, error=125.345\n>epoch=92, lrate=0.100, error=125.341\n>epoch=93, lrate=0.100, error=125.337\n>epoch=94, lrate=0.100, error=125.333\n>epoch=95, lrate=0.100, error=125.329\n>epoch=96, lrate=0.100, error=125.326\n>epoch=97, lrate=0.100, error=125.322\n>epoch=98, lrate=0.100, error=125.319\n>epoch=99, lrate=0.100, error=125.316\n>epoch=0, lrate=0.100, error=147.124\n>epoch=1, lrate=0.100, error=142.766\n>epoch=2, lrate=0.100, error=139.954\n>epoch=3, lrate=0.100, error=137.738\n>epoch=4, lrate=0.100, error=135.974\n>epoch=5, lrate=0.100, error=134.552\n>epoch=6, lrate=0.100, error=133.392\n>epoch=7, lrate=0.100, error=132.435\n>epoch=8, lrate=0.100, error=131.636\n>epoch=9, lrate=0.100, error=130.962\n>epoch=10, lrate=0.100, error=130.390\n>epoch=11, lrate=0.100, error=129.899\n>epoch=12, lrate=0.100, error=129.475\n>epoch=13, lrate=0.100, error=129.106\n>epoch=14, lrate=0.100, error=128.784\n>epoch=15, lrate=0.100, error=128.501\n>epoch=16, lrate=0.100, error=128.251\n>epoch=17, lrate=0.100, error=128.029\n>epoch=18, lrate=0.100, error=127.832\n>epoch=19, lrate=0.100, error=127.655\n>epoch=20, lrate=0.100, error=127.496\n>epoch=21, lrate=0.100, error=127.352\n>epoch=22, lrate=0.100, error=127.223\n>epoch=23, lrate=0.100, error=127.105\n>epoch=24, lrate=0.100, error=126.998\n>epoch=25, lrate=0.100, error=126.901\n>epoch=26, lrate=0.100, error=126.811\n>epoch=27, lrate=0.100, error=126.729\n>epoch=28, lrate=0.100, error=126.654\n>epoch=29, lrate=0.100, error=126.584\n>epoch=30, lrate=0.100, error=126.520\n>epoch=31, lrate=0.100, error=126.460\n>epoch=32, lrate=0.100, error=126.405\n>epoch=33, lrate=0.100, error=126.354\n>epoch=34, lrate=0.100, error=126.306\n>epoch=35, lrate=0.100, error=126.261\n>epoch=36, lrate=0.100, error=126.219\n>epoch=37, lrate=0.100, error=126.180\n>epoch=38, lrate=0.100, error=126.144\n>epoch=39, lrate=0.100, error=126.109\n>epoch=40, lrate=0.100, error=126.077\n>epoch=41, lrate=0.100, error=126.046\n>epoch=42, lrate=0.100, error=126.018\n>epoch=43, lrate=0.100, error=125.991\n>epoch=44, lrate=0.100, error=125.965\n>epoch=45, lrate=0.100, error=125.941\n>epoch=46, lrate=0.100, error=125.918\n>epoch=47, lrate=0.100, error=125.896\n>epoch=48, lrate=0.100, error=125.875\n>epoch=49, lrate=0.100, error=125.856\n>epoch=50, lrate=0.100, error=125.837\n>epoch=51, lrate=0.100, error=125.819\n>epoch=52, lrate=0.100, error=125.802\n>epoch=53, lrate=0.100, error=125.786\n>epoch=54, lrate=0.100, error=125.771\n>epoch=55, lrate=0.100, error=125.756\n>epoch=56, lrate=0.100, error=125.742\n>epoch=57, lrate=0.100, error=125.729\n>epoch=58, lrate=0.100, error=125.716\n>epoch=59, lrate=0.100, error=125.703\n>epoch=60, lrate=0.100, error=125.692\n>epoch=61, lrate=0.100, error=125.680\n>epoch=62, lrate=0.100, error=125.670\n>epoch=63, lrate=0.100, error=125.659\n>epoch=64, lrate=0.100, error=125.649\n>epoch=65, lrate=0.100, error=125.640\n>epoch=66, lrate=0.100, error=125.631\n>epoch=67, lrate=0.100, error=125.622\n>epoch=68, lrate=0.100, error=125.613\n>epoch=69, lrate=0.100, error=125.605\n>epoch=70, lrate=0.100, error=125.597\n>epoch=71, lrate=0.100, error=125.590\n>epoch=72, lrate=0.100, error=125.583\n>epoch=73, lrate=0.100, error=125.576\n>epoch=74, lrate=0.100, error=125.569\n>epoch=75, lrate=0.100, error=125.563\n>epoch=76, lrate=0.100, error=125.556\n>epoch=77, lrate=0.100, error=125.550\n>epoch=78, lrate=0.100, error=125.544\n>epoch=79, lrate=0.100, error=125.539\n>epoch=80, lrate=0.100, error=125.533\n>epoch=81, lrate=0.100, error=125.528\n>epoch=82, lrate=0.100, error=125.523\n>epoch=83, lrate=0.100, error=125.518\n>epoch=84, lrate=0.100, error=125.514\n>epoch=85, lrate=0.100, error=125.509\n>epoch=86, lrate=0.100, error=125.505\n>epoch=87, lrate=0.100, error=125.500\n>epoch=88, lrate=0.100, error=125.496\n>epoch=89, lrate=0.100, error=125.492\n>epoch=90, lrate=0.100, error=125.488\n>epoch=91, lrate=0.100, error=125.485\n>epoch=92, lrate=0.100, error=125.481\n>epoch=93, lrate=0.100, error=125.478\n>epoch=94, lrate=0.100, error=125.474\n>epoch=95, lrate=0.100, error=125.471\n>epoch=96, lrate=0.100, error=125.468\n>epoch=97, lrate=0.100, error=125.465\n>epoch=98, lrate=0.100, error=125.462\n>epoch=99, lrate=0.100, error=125.459\nScores: [66.01307189542483, 67.3202614379085, 66.66666666666666, 68.62745098039215, 68.62745098039215]\nMean Accuracy: 67.451%\n"
     ]
    }
   ],
   "source": [
    "# Test the logistic regression algorithm on the diabetes dataset\n",
    "seed(1)\n",
    "\n",
    "# load and prepare data\n",
    "filename = './data/pima-indians-diabetes.csv'\n",
    "dataset = load_csv(filename)\n",
    "for i in range(len(dataset[0])):\n",
    "    str_column_to_float(dataset, i)\n",
    "\n",
    "# normalize\n",
    "minmax = dataset_minmax(dataset)\n",
    "normalize_dataset(dataset, minmax)\n",
    "\n",
    "# evaluate algorithm\n",
    "n_folds = 5\n",
    "l_rate = 0.1\n",
    "n_epoch = 100\n",
    "scores = evaluate_algorithm_kfold(dataset, logistic_regression, n_folds, l_rate, n_epoch)\n",
    "print('Scores: %s' % scores)\n",
    "print('Mean Accuracy: %.3f%%' % (sum(scores)/float(len(scores))))"
   ]
  },
  {
   "source": [
    "## Future Works\n",
    "\n",
    "* Tune The Example. Tune the learning rate, number of epochs and even data preparation\n",
    "method to get an improved score on the dataset.\n",
    "* Batch Stochastic Gradient Descent. Change the stochastic gradient descent algorithm\n",
    "to accumulate updates across each epoch and only update the coefficients in a batch at\n",
    "the end of the epoch.\n",
    "* Additional Classification Problems. Apply the technique to other binary (2 class)\n",
    "classification problems on the UCI machine learning repository."
   ],
   "cell_type": "markdown",
   "metadata": {}
  },
  {
   "cell_type": "code",
   "execution_count": null,
   "metadata": {},
   "outputs": [],
   "source": []
  }
 ]
}