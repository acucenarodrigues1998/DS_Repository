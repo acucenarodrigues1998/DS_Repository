{
 "metadata": {
  "language_info": {
   "codemirror_mode": {
    "name": "ipython",
    "version": 3
   },
   "file_extension": ".py",
   "mimetype": "text/x-python",
   "name": "python",
   "nbconvert_exporter": "python",
   "pygments_lexer": "ipython3",
   "version": "3.8.5-final"
  },
  "orig_nbformat": 2,
  "kernelspec": {
   "name": "python3",
   "display_name": "Python 3",
   "language": "python"
  }
 },
 "nbformat": 4,
 "nbformat_minor": 2,
 "cells": [
  {
   "source": [
    "# Chapter 15 - Backpropagation\n",
    "\n",
    "### Initialize Network"
   ],
   "cell_type": "markdown",
   "metadata": {}
  },
  {
   "cell_type": "code",
   "execution_count": 1,
   "metadata": {},
   "outputs": [],
   "source": [
    "from random import seed, random\n",
    "from math import exp"
   ]
  },
  {
   "cell_type": "code",
   "execution_count": 2,
   "metadata": {},
   "outputs": [],
   "source": [
    "# Initialize a network\n",
    "def initialize_network(n_inputs, n_hidden, n_outputs):\n",
    "    network = list()\n",
    "    hidden_layer = [{'weights': [random() for i in range(n_inputs +1)]} for i in range(n_hidden)]\n",
    "    network.append(hidden_layer)\n",
    "    output_layer = [{'weights': [random() for i in range(n_hidden + 1)]} for i in range(n_outputs)]\n",
    "    network.append(output_layer)\n",
    "    return network"
   ]
  },
  {
   "cell_type": "code",
   "execution_count": 3,
   "metadata": {},
   "outputs": [
    {
     "output_type": "stream",
     "name": "stdout",
     "text": [
      "[{'weights': [0.13436424411240122, 0.8474337369372327, 0.763774618976614]}]\n[{'weights': [0.2550690257394217, 0.49543508709194095]}, {'weights': [0.4494910647887381, 0.651592972722763]}]\n"
     ]
    }
   ],
   "source": [
    "# Test initializing a network\n",
    "seed(1)\n",
    "network = initialize_network(2, 1, 2)\n",
    "for layer in network:\n",
    "    print(layer)"
   ]
  },
  {
   "source": [
    "### Forward-Propagate\n",
    "\n",
    "#### Neuron Activation\n"
   ],
   "cell_type": "markdown",
   "metadata": {}
  },
  {
   "cell_type": "code",
   "execution_count": 4,
   "metadata": {},
   "outputs": [],
   "source": [
    "# Calculate neuron activation for an input\n",
    "def activate(weights, inputs):\n",
    "    activation = weights[-1]\n",
    "    for i in range(len(weights) - 1):\n",
    "        activation += weights[i] * inputs[i]\n",
    "    return activation"
   ]
  },
  {
   "source": [
    "#### Neuron Transfer"
   ],
   "cell_type": "markdown",
   "metadata": {}
  },
  {
   "cell_type": "code",
   "execution_count": 5,
   "metadata": {},
   "outputs": [],
   "source": [
    "# Transfer neuron activation\n",
    "def transfer(activation):\n",
    "    return 1.0 / (1.0 + exp(-activation))"
   ]
  },
  {
   "source": [
    "#### Forward-Propagation"
   ],
   "cell_type": "markdown",
   "metadata": {}
  },
  {
   "cell_type": "code",
   "execution_count": 6,
   "metadata": {},
   "outputs": [],
   "source": [
    "# Forward-propagate input to a network output\n",
    "def forward_propagate(network, row):\n",
    "    inputs = row\n",
    "    for layer in network:\n",
    "        new_inputs = []\n",
    "        for neuron in layer:\n",
    "            activation = activate(neuron['weights'], inputs)\n",
    "            neuron['output'] = transfer(activation)\n",
    "            new_inputs.append(neuron['output'])\n",
    "        inputs = new_inputs\n",
    "    return inputs"
   ]
  },
  {
   "cell_type": "code",
   "execution_count": 7,
   "metadata": {},
   "outputs": [
    {
     "output_type": "stream",
     "name": "stdout",
     "text": [
      "[0.6629970129852887, 0.7253160725279748]\n"
     ]
    }
   ],
   "source": [
    "# test forward propagation\n",
    "network = [[{'weights': [0.13436424411240122, 0.8474337369372327, 0.763774618976614]}],\n",
    "[{'weights': [0.2550690257394217, 0.49543508709194095]}, {'weights': [0.4494910647887381, 0.651592972722763]}]]\n",
    "row = [1, 0, None]\n",
    "output = forward_propagate(network, row)\n",
    "print(output)"
   ]
  },
  {
   "source": [
    "### Backpropagate Error\n",
    "\n",
    "#### Transfer Derivative"
   ],
   "cell_type": "markdown",
   "metadata": {}
  },
  {
   "cell_type": "code",
   "execution_count": 8,
   "metadata": {},
   "outputs": [],
   "source": [
    "# Calculate the derivative of an neuron output\n",
    "def transfer_derivative(output):\n",
    "    return output * (1.0 - output)"
   ]
  },
  {
   "source": [
    "#### Error Backpropagation"
   ],
   "cell_type": "markdown",
   "metadata": {}
  },
  {
   "cell_type": "code",
   "execution_count": 34,
   "metadata": {},
   "outputs": [],
   "source": [
    "# Backpropagate error and store in neurons\n",
    "def backward_propagate_error(network, expected):\n",
    "\tfor i in reversed(range(len(network))):\n",
    "\t\tlayer = network[i]\n",
    "\t\terrors = list()\n",
    "\t\tif i != len(network)-1:\n",
    "\t\t\tfor j in range(len(layer)):\n",
    "\t\t\t\terror = 0.0\n",
    "\t\t\t\tfor neuron in network[i + 1]:\n",
    "\t\t\t\t\terror += (neuron['weights'][j] * neuron['delta'])\n",
    "\t\t\t\terrors.append(error)\n",
    "\t\telse:\n",
    "\t\t\tfor j in range(len(layer)):\n",
    "\t\t\t\tneuron = layer[j]\n",
    "\t\t\t\terrors.append(expected[j] - neuron['output'])\n",
    "\t\tfor j in range(len(layer)):\n",
    "\t\t\tneuron = layer[j]\n",
    "\t\t\tneuron['delta'] = errors[j] *         transfer_derivative(neuron['output'])"
   ]
  },
  {
   "cell_type": "code",
   "execution_count": 22,
   "metadata": {},
   "outputs": [
    {
     "output_type": "stream",
     "name": "stdout",
     "text": [
      "[{'output': 0.7105668883115941, 'weights': [0.13436424411240122, 0.8474337369372327, 0.763774618976614], 'delta': -0.0005348048046610517}]\n[{'output': 0.6213859615555266, 'weights': [0.2550690257394217, 0.49543508709194095], 'delta': -0.14619064683582808}, {'output': 0.6573693455986976, 'weights': [0.4494910647887381, 0.651592972722763], 'delta': 0.0771723774346327}]\n"
     ]
    }
   ],
   "source": [
    "network = [[{ 'output' : 0.7105668883115941, 'weights' : [0.13436424411240122,\n",
    "0.8474337369372327, 0.763774618976614]}],\n",
    "[{'output': 0.6213859615555266, 'weights': [0.2550690257394217, 0.49543508709194095]},\n",
    "{'output': 0.6573693455986976, 'weights': [0.4494910647887381, 0.651592972722763]}]]\n",
    "expected = [0, 1]\n",
    "backward_propagate_error(network, expected)\n",
    "for layer in network:\n",
    "    print(layer)"
   ]
  },
  {
   "source": [
    "### Train Network\n",
    "\n",
    "#### Update Weights"
   ],
   "cell_type": "markdown",
   "metadata": {}
  },
  {
   "cell_type": "code",
   "execution_count": 23,
   "metadata": {},
   "outputs": [],
   "source": [
    "# Update network weights with error\n",
    "def update_weights(networks, row, l_rate):\n",
    "    for i in range(len(network)):\n",
    "        inputs = row[:-1]\n",
    "        if i != 0:\n",
    "            inputs = [neuron['output'] for neuron in network[i-1]]\n",
    "        for neuron in network[i]:\n",
    "            print(network[i])\n",
    "            for j in range(len(inputs)):\n",
    "                neuron['weights'][j] += l_rate * neuron['delta'] * inputs[j]\n",
    "            neuron['weights'][-1] += l_rate * neuron['delta']"
   ]
  },
  {
   "source": [
    "#### Train Network"
   ],
   "cell_type": "markdown",
   "metadata": {}
  },
  {
   "cell_type": "code",
   "execution_count": 24,
   "metadata": {},
   "outputs": [],
   "source": [
    "# Train a network for a fixed number of epochs\n",
    "def train_network(network, train, l_rate, n_epoch, n_outputs):\n",
    "    for epoch in range(n_epoch):\n",
    "        sum_error = 0\n",
    "        for row in train:\n",
    "            outputs = forward_propagate(network, row)\n",
    "            expected = [0 for i in range(n_outputs)]\n",
    "            expected[row[-1]] = 1\n",
    "            sum_error += sum([(expected[i] - outputs[i])**2 for i in range(len(expected))])\n",
    "            backward_propagate_error(network, expected)\n",
    "            update_weights(network, row, l_rate)\n",
    "        print('>epoch=%d, lrate=%.3f, error=%.3f' % (epoch, l_rate, sum_error))"
   ]
  },
  {
   "cell_type": "code",
   "execution_count": 25,
   "metadata": {
    "tags": [
     "outputPrepend"
    ]
   },
   "outputs": [
    {
     "output_type": "stream",
     "name": "stdout",
     "text": [
      ".8807693589563251], 'output': 0.7828936354118454, 'delta': 0.03690182737216645}, {'weights': [-2.4330258224154364, 0.9014866016263194, 0.3417714774198672], 'output': 0.20654037029152625, 'delta': -0.033848134485266884}]\n[{'weights': [2.3903952601596985, -0.21396569969195653, -0.8623184452702419], 'output': 0.7828936354118454, 'delta': 0.03690182737216645}, {'weights': [-2.4330258224154364, 0.9014866016263194, 0.3417714774198672], 'output': 0.20654037029152625, 'delta': -0.033848134485266884}]\n[{'weights': [-1.352562068109608, 1.8236178929333136, 1.0772149269560505], 'output': 0.9291601037853595, 'delta': 0.011686111379127227}, {'weights': [0.3193020424556014, -0.024612680228250607, 0.28749658073388695], 'output': 0.6648919093017771, 'delta': -0.008480371740983211}]\n[{'weights': [-1.344451496688415, 1.8344288332835066, 1.0830579826456141], 'output': 0.9291601037853595, 'delta': 0.011686111379127227}, {'weights': [0.3193020424556014, -0.024612680228250607, 0.28749658073388695], 'output': 0.6648919093017771, 'delta': -0.008480371740983211}]\n[{'weights': [2.3903952601596985, -0.21396569969195653, -0.8623184452702419], 'output': 0.7714430432525161, 'delta': 0.04029885960885927}, {'weights': [-2.449759764115242, 0.8880069424964573, 0.32484741017723373], 'output': 0.20408708362852765, 'delta': -0.033150996845345095}]\n[{'weights': [2.4091173064479983, -0.20056850683794716, -0.8421690154658122], 'output': 0.7714430432525161, 'delta': 0.04029885960885927}, {'weights': [-2.449759764115242, 0.8880069424964573, 0.32484741017723373], 'output': 0.20408708362852765, 'delta': -0.033150996845345095}]\n[{'weights': [-1.344451496688415, 1.8344288332835066, 1.0830579826456141], 'output': 0.9224836875729773, 'delta': 0.013188213582105323}, {'weights': [0.3134163668487128, -0.03245795827369051, 0.2832563948633953], 'output': 0.75878699419242, 'delta': -0.007239790719433054}]\n[{'weights': [-1.3242466765948264, 1.854246141809257, 1.0896520894366668], 'output': 0.9224836875729773, 'delta': 0.013188213582105323}, {'weights': [0.3134163668487128, -0.03245795827369051, 0.2832563948633953], 'output': 0.75878699419242, 'delta': -0.007239790719433054}]\n[{'weights': [2.4091173064479983, -0.20056850683794716, -0.8421690154658122], 'output': 0.7734707234087073, 'delta': 0.039691047080520146}, {'weights': [-2.4651610559499466, 0.8769860277025779, 0.3082719117545612], 'output': 0.21410555344335827, 'delta': -0.03602633508477273}]\n[{'weights': [2.427424478185234, -0.1855099816826583, -0.8223234919255522], 'output': 0.7734707234087073, 'delta': 0.039691047080520146}, {'weights': [-2.4651610559499466, 0.8769860277025779, 0.3082719117545612], 'output': 0.21410555344335827, 'delta': -0.03602633508477273}]\n[{'weights': [-1.3242466765948264, 1.854246141809257, 1.0896520894366668], 'output': 0.019943060802124556, 'delta': -0.005131423173035039}, {'weights': [0.302324745675709, -0.04333685141988157, 0.2796364995036788], 'output': 0.9217272761815003, 'delta': 0.003906937176022322}]\n[{'weights': [-1.3438167218071102, 1.8471666707226773, 1.0870863778501494], 'output': 0.019943060802124556, 'delta': -0.005131423173035039}, {'weights': [0.302324745675709, -0.04333685141988157, 0.2796364995036788], 'output': 0.9217272761815003, 'delta': 0.003906937176022322}]\n[{'weights': [2.427424478185234, -0.1855099816826583, -0.8223234919255522], 'output': 0.27991105883510864, 'delta': -0.05641911317603179}, {'weights': [-2.481777909169317, 0.8633178704472061, 0.29025874421217485], 'output': 0.7381756848565014, 'delta': 0.05060339887963097}]\n[{'weights': [2.426861893282998, -0.21151149943881808, -0.8505330485135681], 'output': 0.27991105883510864, 'delta': -0.05641911317603179}, {'weights': [-2.481777909169317, 0.8633178704472061, 0.29025874421217485], 'output': 0.7381756848565014, 'delta': 0.05060339887963097}]\n[{'weights': [-1.3438167218071102, 1.8471666707226773, 1.0870863778501494], 'output': 0.09790735306824963, 'delta': -0.02813120916298632}, {'weights': [0.3172248883063326, -0.0379467193177236, 0.28158996809168996], 'output': 0.8692014443326955, 'delta': 0.007978780308369323}]\n[{'weights': [-1.4188207318555222, 1.817788872387208, 1.0730207732686563], 'output': 0.09790735306824963, 'delta': -0.02813120916298632}, {'weights': [0.3172248883063326, -0.0379467193177236, 0.28158996809168996], 'output': 0.8692014443326955, 'delta': 0.007978780308369323}]\n[{'weights': [2.426861893282998, -0.21151149943881808, -0.8505330485135681], 'output': 0.3107165441864828, 'delta': -0.06654671327924706}, {'weights': [-2.4812733158389917, 0.8866391369546303, 0.3155604436519903], 'output': 0.6991584239539181, 'delta': 0.06327779032418471}]\n[{'weights': [2.4236041870067164, -0.24043274908777573, -0.8838064051531916], 'output': 0.3107165441864828, 'delta': -0.06654671327924706}, {'weights': [-2.4812733158389917, 0.8866391369546303, 0.3155604436519903], 'output': 0.6991584239539181, 'delta': 0.06327779032418471}]\n[{'weights': [-1.4188207318555222, 1.817788872387208, 1.0730207732686563], 'output': 0.0039523563973339094, 'delta': -0.0008563868415037473}, {'weights': [0.33849807691887196, -0.02961437222577214, 0.2855793582458746], 'output': 0.9293282499468293, 'delta': 0.0032557356203176445}]\n[{'weights': [-1.4217849422238318, 1.8170305145759813, 1.0725925798479043], 'output': 0.0039523563973339094, 'delta': -0.0008563868415037473}, {'weights': [0.33849807691887196, -0.02961437222577214, 0.2855793582458746], 'output': 0.9293282499468293, 'delta': 0.0032557356203176445}]\n[{'weights': [2.4236041870067164, -0.24043274908777573, -0.8838064051531916], 'output': 0.2501770202126156, 'delta': -0.04693032664493416}, {'weights': [-2.4781756353596673, 0.9141397103266117, 0.34719933881408266], 'output': 0.7661934398226031, 'delta': 0.04188435329389099}]\n[{'weights': [2.4235114443183443, -0.26223958825296056, -0.9072715684756587], 'output': 0.2501770202126156, 'delta': -0.04693032664493416}, {'weights': [-2.4781756353596673, 0.9141397103266117, 0.34719933881408266], 'output': 0.7661934398226031, 'delta': 0.04188435329389099}]\n[{'weights': [-1.4217849422238318, 1.8170305145759813, 1.0725925798479043], 'output': 8.278560668503918e-06, 'delta': -1.6402237061191009e-06}, {'weights': [0.3497671492755595, -0.026731314687637394, 0.28720722605603344], 'output': 0.9653788046055528, 'delta': 0.001552005309571981}]\n[{'weights': [-1.4217920570374978, 1.8170307130993546, 1.0725917597360513], 'output': 8.278560668503918e-06, 'delta': -1.6402237061191009e-06}, {'weights': [0.3497671492755595, -0.026731314687637394, 0.28720722605603344], 'output': 0.9653788046055528, 'delta': 0.001552005309571981}]\n[{'weights': [2.4235114443183443, -0.26223958825296056, -0.9072715684756587], 'output': 0.23859242240135436, 'delta': -0.04334414970740888}, {'weights': [-2.4780928644138225, 0.9336018666999949, 0.36814151546102813], 'output': 0.7806400983297133, 'delta': 0.03756343858146175}]\n[{'weights': [2.4235112649047577, -0.2831613499685518, -0.9289436433293632], 'output': 0.23859242240135436, 'delta': -0.04334414970740888}, {'weights': [-2.4780928644138225, 0.9336018666999949, 0.36814151546102813], 'output': 0.7806400983297133, 'delta': 0.03756343858146175}]\n[{'weights': [-1.4217920570374978, 1.8170307130993546, 1.0725917597360513], 'output': 0.03039155705850247, 'delta': -0.0061903702305805865}, {'weights': [0.3564992971801154, -0.026919160606557867, 0.28798322871081944], 'output': 0.9492723416920494, 'delta': 0.002469351046762534}]\n[{'weights': [-1.4455437538294236, 1.8061710610916493, 1.069496574620761], 'output': 0.03039155705850247, 'delta': -0.0061903702305805865}, {'weights': [0.3564992971801154, -0.026919160606557867, 0.28798322871081944], 'output': 0.9492723416920494, 'delta': 0.002469351046762534}]\n[{'weights': [2.4235112649047577, -0.2831613499685518, -0.9289436433293632], 'output': 0.2452540482017669, 'delta': -0.04539762797576575}, {'weights': [-2.47809270892822, 0.9517333404173177, 0.386923234751759], 'output': 0.7711937874209733, 'delta': 0.040373755341167106}]\n[{'weights': [2.4228214126042844, -0.3047087062764616, -0.9516424573172461], 'output': 0.2452540482017669, 'delta': -0.04539762797576575}, {'weights': [-2.47809270892822, 0.9517333404173177, 0.386923234751759], 'output': 0.7711937874209733, 'delta': 0.040373755341167106}]\n>epoch=18, lrate=0.500, error=1.233\n[{'weights': [-1.4455437538294236, 1.8061710610916493, 1.069496574620761], 'output': 0.8397036406323335, 'delta': 0.039966662407281646}, {'weights': [0.36597389646107437, -0.022587223734635287, 0.2892179042342007], 'output': 0.7771981205710786, 'delta': -0.013105383500388878}]\n[{'weights': [-1.3899684391456097, 1.8571392867697396, 1.0894799058244018], 'output': 0.8397036406323335, 'delta': 0.039966662407281646}, {'weights': [0.36597389646107437, -0.022587223734635287, 0.2892179042342007], 'output': 0.7771981205710786, 'delta': -0.013105383500388878}]\n[{'weights': [2.4228214126042844, -0.3047087062764616, -0.9516424573172461], 'output': 0.6997253761675264, 'delta': 0.06309063338582958}, {'weights': [-2.4774791982836613, 0.9708961850551235, 0.4071101124223425], 'output': 0.2852311091975455, 'delta': -0.05815129944120704}]\n[{'weights': [2.449310129876225, -0.28019174542990877, -0.9200971406243312], 'output': 0.6997253761675264, 'delta': 0.06309063338582958}, {'weights': [-2.4774791982836613, 0.9708961850551235, 0.4071101124223425], 'output': 0.2852311091975455, 'delta': -0.05815129944120704}]\n[{'weights': [-1.3899684391456097, 1.8571392867697396, 1.0894799058244018], 'output': 0.9689101718685176, 'delta': 0.0051088686390827675}, {'weights': [0.3477503128987533, -0.03930010651275903, 0.2826652124840062], 'output': 0.668067555819795, 'delta': -0.008830309535056318}]\n[{'weights': [-1.3862249427988498, 1.8631731801309233, 1.0920343401439432], 'output': 0.9689101718685176, 'delta': 0.0051088686390827675}, {'weights': [0.3477503128987533, -0.03930010651275903, 0.2826652124840062], 'output': 0.668067555819795, 'delta': -0.008830309535056318}]\n[{'weights': [2.449310129876225, -0.28019174542990877, -0.9200971406243312], 'output': 0.7800362003841163, 'delta': 0.037741328572369025}, {'weights': [-2.5018941272078026, 0.9482986447378875, 0.378034462701739], 'output': 0.19583237881456403, 'delta': -0.030840086082304916}]\n[{'weights': [2.4675941084530253, -0.2675848668635416, -0.9012264763381467], 'output': 0.7800362003841163, 'delta': 0.037741328572369025}, {'weights': [-2.5018941272078026, 0.9482986447378875, 0.378034462701739], 'output': 0.19583237881456403, 'delta': -0.030840086082304916}]\n[{'weights': [-1.3862249427988498, 1.8631731801309233, 1.0920343401439432], 'output': 0.9898707258896647, 'delta': 0.0016371795882307188}, {'weights': [0.34127995051120563, -0.04972925430355825, 0.27825005771647804], 'output': 0.7718179879881816, 'delta': -0.006770505422224816}]\n[{'weights': [-1.3834445520659697, 1.8667752155048745, 1.0928529299380585], 'output': 0.9898707258896647, 'delta': 0.0016371795882307188}, {'weights': [0.34127995051120563, -0.04972925430355825, 0.27825005771647804], 'output': 0.7718179879881816, 'delta': -0.006770505422224816}]\n[{'weights': [2.4675941084530253, -0.2675848668635416, -0.9012264763381467], 'output': 0.7916410707114746, 'delta': 0.03436786482773738}, {'weights': [-2.5168347637610253, 0.9379970142727487, 0.36261441966058655], 'output': 0.19706127750976463, 'delta': -0.031180637517755485}]\n[{'weights': [2.4846039801051805, -0.25432199872214456, -0.884042543924278], 'output': 0.7916410707114746, 'delta': 0.03436786482773738}, {'weights': [-2.5168347637610253, 0.9379970142727487, 0.36261441966058655], 'output': 0.19706127750976463, 'delta': -0.031180637517755485}]\n[{'weights': [-1.3834445520659697, 1.8667752155048745, 1.0928529299380585], 'output': 0.9325464794976448, 'delta': 0.010785488990300393}, {'weights': [0.3297817308484431, -0.06462535990229588, 0.27486480500536564], 'output': 0.6486371093549833, 'delta': -0.008677964019046414}]\n[{'weights': [-1.3759590441899652, 1.8767529809341912, 1.0982456744332088], 'output': 0.9325464794976448, 'delta': 0.010785488990300393}, {'weights': [0.3297817308484431, -0.06462535990229588, 0.27486480500536564], 'output': 0.6486371093549833, 'delta': -0.008677964019046414}]\n[{'weights': [2.4846039801051805, -0.25432199872214456, -0.884042543924278], 'output': 0.7804007824082924, 'delta': 0.037633904023434896}, {'weights': [-2.532267163907727, 0.9259641258161773, 0.3470241009017088], 'output': 0.19563255052337555, 'delta': -0.030784827299934498}]\n[{'weights': [2.5021516624585836, -0.24211662536239273, -0.8652255919125605], 'output': 0.7804007824082924, 'delta': 0.037633904023434896}, {'weights': [-2.532267163907727, 0.9259641258161773, 0.3470241009017088], 'output': 0.19563255052337555, 'delta': -0.030784827299934498}]\n[{'weights': [-1.3759590441899652, 1.8767529809341912, 1.0982456744332088], 'output': 0.9256989917393754, 'delta': 0.012352236484795586}, {'weights': [0.32375891926607764, -0.07265343257141321, 0.27052582299584244], 'output': 0.739659734049057, 'delta': -0.007696278986044221}]\n[{'weights': [-1.3570349712383871, 1.8953141059780236, 1.1044217926756066], 'output': 0.9256989917393754, 'delta': 0.012352236484795586}, {'weights': [0.32375891926607764, -0.07265343257141321, 0.27052582299584244], 'output': 0.739659734049057, 'delta': -0.007696278986044221}]\n[{'weights': [2.5021516624585836, -0.24211662536239273, -0.8652255919125605], 'output': 0.7810729121092879, 'delta': 0.037436098132988455}, {'weights': [-2.5466213050679753, 0.9159800351202663, 0.3316316872517416], 'output': 0.20615506170151515, 'delta': -0.033738338007057576}]\n[{'weights': [2.5194789416067653, -0.2282716381679524, -0.8465075428460663], 'output': 0.7810729121092879, 'delta': 0.037436098132988455}, {'weights': [-2.5466213050679753, 0.9159800351202663, 0.3316316872517416], 'output': 0.20615506170151515, 'delta': -0.033738338007057576}]\n[{'weights': [-1.3570349712383871, 1.8953141059780236, 1.1044217926756066], 'output': 0.017692976238316095, 'delta': -0.0043709806189002635}, {'weights': [0.31196794156200974, -0.08421826917472976, 0.26667768350282034], 'output': 0.9178767990832895, 'delta': 0.00408940862390113}]\n[{'weights': [-1.3737048667916125, 1.8892837651021994, 1.1022363023661566], 'output': 0.017692976238316095, 'delta': -0.0043709806189002635}, {'weights': [0.31196794156200974, -0.08421826917472976, 0.26667768350282034], 'output': 0.9178767990832895, 'delta': 0.00408940862390113}]\n[{'weights': [2.5194789416067653, -0.2282716381679524, -0.8465075428460663], 'output': 0.26669506411726607, 'delta': -0.052157235493600095}, {'weights': [-2.562237077806023, 0.9035025900614876, 0.3147625182482128], 'output': 0.7500226296623964, 'delta': 0.04686792835853812}]\n[{'weights': [2.519017533242643, -0.2522085963499019, -0.8725861605928664], 'output': 0.26669506411726607, 'delta': -0.052157235493600095}, {'weights': [-2.562237077806023, 0.9035025900614876, 0.3147625182482128], 'output': 0.7500226296623964, 'delta': 0.04686792835853812}]\n[{'weights': [-1.3737048667916125, 1.8892837651021994, 1.1022363023661566], 'output': 0.09304956151763376, 'delta': -0.026114641089088755}, {'weights': [0.3275639875248131, -0.0785763937850229, 0.2687223878147709], 'output': 0.864282169549822, 'delta': 0.008295842634774463}]\n[{'weights': [-1.4433322614516988, 1.8620118958031064, 1.0891789818216122], 'output': 0.09304956151763376, 'delta': -0.026114641089088755}, {'weights': [0.3275639875248131, -0.0785763937850229, 0.2687223878147709], 'output': 0.864282169549822, 'delta': 0.008295842634774463}]\n[{'weights': [2.519017533242643, -0.2522085963499019, -0.8725861605928664], 'output': 0.29813972851445136, 'delta': -0.06238646290844305}, {'weights': [-2.56182246123463, 0.9250120820921875, 0.33819648242748185], 'output': 0.7108038787386692, 'delta': 0.059447653465554876}]\n[{'weights': [2.51611501673351, -0.2791683501064262, -0.9037793920470879], 'output': 0.29813972851445136, 'delta': -0.06238646290844305}, {'weights': [-2.56182246123463, 0.9250120820921875, 0.33819648242748185], 'output': 0.7108038787386692, 'delta': 0.059447653465554876}]\n[{'weights': [-1.4433322614516988, 1.8620118958031064, 1.0891789818216122], 'output': 0.00366707701891279, 'delta': -0.0007662913347959078}, {'weights': [0.34968253425110724, -0.06991293426093466, 0.27287030913215815], 'output': 0.9288899249256973, 'delta': 0.003253942820293655}]\n[{'weights': [-1.4459846243905774, 1.86133332043126, 1.0887958361542143], 'output': 0.00366707701891279, 'delta': -0.0007662913347959078}, {'weights': [0.34968253425110724, -0.06991293426093466, 0.27287030913215815], 'output': 0.9288899249256973, 'delta': 0.003253942820293655}]\n[{'weights': [2.51611501673351, -0.2791683501064262, -0.9037793920470879], 'output': 0.23978305448688497, 'delta': -0.04370936752688127}, {'weights': [-2.559056672190519, 0.9507018555481155, 0.3679203091602593], 'output': 0.7758482078066684, 'delta': 0.03898173748124265}]\n[{'weights': [2.516034873924925, -0.29946894566672344, -0.9256340758105286], 'output': 0.23978305448688497, 'delta': -0.04370936752688127}, {'weights': [-2.559056672190519, 0.9507018555481155, 0.3679203091602593], 'output': 0.7758482078066684, 'delta': 0.03898173748124265}]\n[{'weights': [-1.4459846243905774, 1.86133332043126, 1.0887958361542143], 'output': 6.74773716238164e-06, 'delta': -1.2859821366645925e-06}, {'weights': [0.36094540119201557, -0.06703146430429495, 0.274497280542305], 'output': 0.9683873854254268, 'delta': 0.0014022141588469193}]\n[{'weights': [-1.445990202607284, 1.8613334760792433, 1.0887951931631459], 'output': 6.74773716238164e-06, 'delta': -1.2859821366645925e-06}, {'weights': [0.36094540119201557, -0.06703146430429495, 0.274497280542305], 'output': 0.9683873854254268, 'delta': 0.0014022141588469193}]\n[{'weights': [2.516034873924925, -0.29946894566672344, -0.9256340758105286], 'output': 0.228708335596729, 'delta': -0.04034434087335189}, {'weights': [-2.5589851976736813, 0.9688067271493278, 0.38741117790088064], 'output': 0.7901076006240779, 'delta': 0.03480804758551947}]\n[{'weights': [2.516034737808421, -0.31900342105425217, -0.9458062462472046], 'output': 0.228708335596729, 'delta': -0.04034434087335189}, {'weights': [-2.5589851976736813, 0.9688067271493278, 0.38741117790088064], 'output': 0.7901076006240779, 'delta': 0.03480804758551947}]\n[{'weights': [-1.445990202607284, 1.8613334760792433, 1.0887951931631459], 'output': 0.029980305604426185, 'delta': -0.0059546604162323625}, {'weights': [0.36702779862519397, -0.06720118035202197, 0.27519838762172844], 'output': 0.9456229000211323, 'delta': 0.0026279652850863837}]\n[{'weights': [-1.4688375095432327, 1.850887325439514, 1.0858178629550297], 'output': 0.029980305604426185, 'delta': -0.0059546604162323625}, {'weights': [0.36702779862519397, -0.06720118035202197, 0.27519838762172844], 'output': 0.9456229000211323, 'delta': 0.0026279652850863837}]\n[{'weights': [2.516034737808421, -0.31900342105425217, -0.9458062462472046], 'output': 0.23648794202357587, 'delta': -0.04270059278364587}, {'weights': [-2.558985080235903, 0.9856605642458803, 0.4048152016936404], 'output': 0.7790535202438367, 'delta': 0.03803132596437354}]\n[{'weights': [2.515394649397849, -0.3391927502445985, -0.9671565426390275], 'output': 0.23648794202357587, 'delta': -0.04270059278364587}, {'weights': [-2.558985080235903, 0.9856605642458803, 0.4048152016936404], 'output': 0.7790535202438367, 'delta': 0.03803132596437354}]\n>epoch=19, lrate=0.500, error=1.132\n[{'weights': [-1.4688375095432327, 1.850887325439514, 1.0858178629550297], 'output': 0.029980305604426185, 'delta': -0.0059546604162323625}, {'weights': [0.37711098142462157, -0.0625909894552989, 0.2765123702642716], 'output': 0.9456229000211323, 'delta': 0.0026279652850863837}]\n[{'weights': [2.515394649397849, -0.3391927502445985, -0.9671565426390275], 'output': 0.23648794202357587, 'delta': -0.04270059278364587}, {'weights': [-2.5584149848484263, 1.0036422106209202, 0.42383086467582715], 'output': 0.7790535202438367, 'delta': 0.03803132596437354}]\n"
     ]
    }
   ],
   "source": [
    "seed(1)\n",
    "dataset = [[2.7810836,2.550537003,0],\n",
    "[1.465489372,2.362125076,0],\n",
    "[3.396561688,4.400293529,0],\n",
    "[1.38807019,1.850220317,0],\n",
    "[3.06407232,3.005305973,0],\n",
    "[7.627531214,2.759262235,1],\n",
    "[5.332441248,2.088626775,1],\n",
    "[6.922596716,1.77106367,1],\n",
    "[8.675418651,-0.242068655,1],\n",
    "[7.673756466,3.508563011,1]]\n",
    "n_inputs = len(dataset[0]) - 1\n",
    "n_outputs = len(set([row[-1] for row in dataset]))\n",
    "network = initialize_network(n_inputs, 2, n_outputs)\n",
    "train_network(network, dataset, 0.5, 20, n_outputs)\n",
    "for layer in network:\n",
    "    print(layer)"
   ]
  },
  {
   "source": [
    "### Predict"
   ],
   "cell_type": "markdown",
   "metadata": {}
  },
  {
   "cell_type": "code",
   "execution_count": 26,
   "metadata": {},
   "outputs": [],
   "source": [
    "# Meake a prediction with a network \n",
    "def predict(network, row):\n",
    "    outputs = forward_propagate(network, row)\n",
    "    return outputs.index(max(outputs))"
   ]
  },
  {
   "cell_type": "code",
   "execution_count": 27,
   "metadata": {},
   "outputs": [
    {
     "output_type": "stream",
     "name": "stdout",
     "text": [
      "Expected=0, Got=0\nExpected=0, Got=0\nExpected=0, Got=0\nExpected=0, Got=0\nExpected=0, Got=0\nExpected=1, Got=1\nExpected=1, Got=1\nExpected=1, Got=1\nExpected=1, Got=1\nExpected=1, Got=1\n"
     ]
    }
   ],
   "source": [
    "# Test making predictions with the network\n",
    "dataset = [[2.7810836,2.550537003,0],\n",
    "[1.465489372,2.362125076,0],\n",
    "[3.396561688,4.400293529,0],\n",
    "[1.38807019,1.850220317,0],\n",
    "[3.06407232,3.005305973,0],\n",
    "[7.627531214,2.759262235,1],\n",
    "[5.332441248,2.088626775,1],\n",
    "[6.922596716,1.77106367,1],\n",
    "[8.675418651,-0.242068655,1],\n",
    "[7.673756466,3.508563011,1]]\n",
    "network = [[{'weights': [-1.482313569067226, 1.8308790073202204, 1.078381922048799]}, {'weights': [0.23244990332399884, 0.3621998343835864, 0.40289821191094327]}], [{'weights': [2.5001872433501404, 0.7887233511355132, -1.1026649757805829]}, {'weights':\n",
    "[-2.429350576245497, 0.8357651039198697, 1.0699217181280656]}]]\n",
    "for row in dataset:\n",
    "    prediction = predict(network, row)\n",
    "    print('Expected=%d, Got=%d' % (row[-1], prediction))"
   ]
  },
  {
   "source": [
    "### Wheat Seeds Case Study"
   ],
   "cell_type": "markdown",
   "metadata": {}
  },
  {
   "cell_type": "code",
   "execution_count": 33,
   "metadata": {},
   "outputs": [
    {
     "output_type": "stream",
     "name": "stdout",
     "text": [
      "Scores: [92.85714285714286, 92.85714285714286, 97.61904761904762, 95.23809523809523, 88.09523809523809]\nMean Accuracy: 93.333%\n"
     ]
    }
   ],
   "source": [
    "# Backprop on the Seeds Dataset\n",
    "from random import seed\n",
    "from random import randrange\n",
    "from random import random\n",
    "from csv import reader\n",
    "from math import exp\n",
    "\n",
    "# Load a CSV file\n",
    "def load_csv(filename):\n",
    "\tdataset = list()\n",
    "\twith open(filename, 'r') as file:\n",
    "\t\tcsv_reader = reader(file)\n",
    "\t\tfor row in csv_reader:\n",
    "\t\t\tif not row:\n",
    "\t\t\t\tcontinue\n",
    "\t\t\tdataset.append(row)\n",
    "\treturn dataset\n",
    "\n",
    "# Convert string column to float\n",
    "def str_column_to_float(dataset, column):\n",
    "\tfor row in dataset:\n",
    "\t\trow[column] = float(row[column].strip())\n",
    "\n",
    "# Convert string column to integer\n",
    "def str_column_to_int(dataset, column):\n",
    "\tclass_values = [row[column] for row in dataset]\n",
    "\tunique = set(class_values)\n",
    "\tlookup = dict()\n",
    "\tfor i, value in enumerate(unique):\n",
    "\t\tlookup[value] = i\n",
    "\tfor row in dataset:\n",
    "\t\trow[column] = lookup[row[column]]\n",
    "\treturn lookup\n",
    "\n",
    "# Find the min and max values for each column\n",
    "def dataset_minmax(dataset):\n",
    "\tminmax = list()\n",
    "\tstats = [[min(column), max(column)] for column in zip(*dataset)]\n",
    "\treturn stats\n",
    "\n",
    "# Rescale dataset columns to the range 0-1\n",
    "def normalize_dataset(dataset, minmax):\n",
    "\tfor row in dataset:\n",
    "\t\tfor i in range(len(row)-1):\n",
    "\t\t\trow[i] = (row[i] - minmax[i][0]) / (minmax[i][1] - minmax[i][0])\n",
    "\n",
    "# Split a dataset into k folds\n",
    "def cross_validation_split(dataset, n_folds):\n",
    "\tdataset_split = list()\n",
    "\tdataset_copy = list(dataset)\n",
    "\tfold_size = int(len(dataset) / n_folds)\n",
    "\tfor i in range(n_folds):\n",
    "\t\tfold = list()\n",
    "\t\twhile len(fold) < fold_size:\n",
    "\t\t\tindex = randrange(len(dataset_copy))\n",
    "\t\t\tfold.append(dataset_copy.pop(index))\n",
    "\t\tdataset_split.append(fold)\n",
    "\treturn dataset_split\n",
    "\n",
    "# Calculate accuracy percentage\n",
    "def accuracy_metric(actual, predicted):\n",
    "\tcorrect = 0\n",
    "\tfor i in range(len(actual)):\n",
    "\t\tif actual[i] == predicted[i]:\n",
    "\t\t\tcorrect += 1\n",
    "\treturn correct / float(len(actual)) * 100.0\n",
    "\n",
    "# Evaluate an algorithm using a cross validation split\n",
    "def evaluate_algorithm(dataset, algorithm, n_folds, *args):\n",
    "\tfolds = cross_validation_split(dataset, n_folds)\n",
    "\tscores = list()\n",
    "\tfor fold in folds:\n",
    "\t\ttrain_set = list(folds)\n",
    "\t\ttrain_set.remove(fold)\n",
    "\t\ttrain_set = sum(train_set, [])\n",
    "\t\ttest_set = list()\n",
    "\t\tfor row in fold:\n",
    "\t\t\trow_copy = list(row)\n",
    "\t\t\ttest_set.append(row_copy)\n",
    "\t\t\trow_copy[-1] = None\n",
    "\t\tpredicted = algorithm(train_set, test_set, *args)\n",
    "\t\tactual = [row[-1] for row in fold]\n",
    "\t\taccuracy = accuracy_metric(actual, predicted)\n",
    "\t\tscores.append(accuracy)\n",
    "\treturn scores\n",
    "\n",
    "# Calculate neuron activation for an input\n",
    "def activate(weights, inputs):\n",
    "\tactivation = weights[-1]\n",
    "\tfor i in range(len(weights)-1):\n",
    "\t\tactivation += weights[i] * inputs[i]\n",
    "\treturn activation\n",
    "\n",
    "# Transfer neuron activation\n",
    "def transfer(activation):\n",
    "\treturn 1.0 / (1.0 + exp(-activation))\n",
    "\n",
    "# Forward propagate input to a network output\n",
    "def forward_propagate(network, row):\n",
    "\tinputs = row\n",
    "\tfor layer in network:\n",
    "\t\tnew_inputs = []\n",
    "\t\tfor neuron in layer:\n",
    "\t\t\tactivation = activate(neuron['weights'], inputs)\n",
    "\t\t\tneuron['output'] = transfer(activation)\n",
    "\t\t\tnew_inputs.append(neuron['output'])\n",
    "\t\tinputs = new_inputs\n",
    "\treturn inputs\n",
    "\n",
    "# Calculate the derivative of an neuron output\n",
    "def transfer_derivative(output):\n",
    "\treturn output * (1.0 - output)\n",
    "\n",
    "# Backpropagate error and store in neurons\n",
    "def backward_propagate_error(network, expected):\n",
    "\tfor i in reversed(range(len(network))):\n",
    "\t\tlayer = network[i]\n",
    "\t\terrors = list()\n",
    "\t\tif i != len(network)-1:\n",
    "\t\t\tfor j in range(len(layer)):\n",
    "\t\t\t\terror = 0.0\n",
    "\t\t\t\tfor neuron in network[i + 1]:\n",
    "\t\t\t\t\terror += (neuron['weights'][j] * neuron['delta'])\n",
    "\t\t\t\terrors.append(error)\n",
    "\t\telse:\n",
    "\t\t\tfor j in range(len(layer)):\n",
    "\t\t\t\tneuron = layer[j]\n",
    "\t\t\t\terrors.append(expected[j] - neuron['output'])\n",
    "\t\tfor j in range(len(layer)):\n",
    "\t\t\tneuron = layer[j]\n",
    "\t\t\tneuron['delta'] = errors[j] * transfer_derivative(neuron['output'])\n",
    "\n",
    "# Update network weights with error\n",
    "def update_weights(network, row, l_rate):\n",
    "\tfor i in range(len(network)):\n",
    "\t\tinputs = row[:-1]\n",
    "\t\tif i != 0:\n",
    "\t\t\tinputs = [neuron['output'] for neuron in network[i - 1]]\n",
    "\t\tfor neuron in network[i]:\n",
    "\t\t\tfor j in range(len(inputs)):\n",
    "\t\t\t\tneuron['weights'][j] += l_rate * neuron['delta'] * inputs[j]\n",
    "\t\t\tneuron['weights'][-1] += l_rate * neuron['delta']\n",
    "\n",
    "# Train a network for a fixed number of epochs\n",
    "def train_network(network, train, l_rate, n_epoch, n_outputs):\n",
    "\tfor epoch in range(n_epoch):\n",
    "\t\tfor row in train:\n",
    "\t\t\toutputs = forward_propagate(network, row)\n",
    "\t\t\texpected = [0 for i in range(n_outputs)]\n",
    "\t\t\texpected[row[-1]] = 1\n",
    "\t\t\tbackward_propagate_error(network, expected)\n",
    "\t\t\tupdate_weights(network, row, l_rate)\n",
    "\n",
    "# Initialize a network\n",
    "def initialize_network(n_inputs, n_hidden, n_outputs):\n",
    "\tnetwork = list()\n",
    "\thidden_layer = [{'weights':[random() for i in range(n_inputs + 1)]} for i in range(n_hidden)]\n",
    "\tnetwork.append(hidden_layer)\n",
    "\toutput_layer = [{'weights':[random() for i in range(n_hidden + 1)]} for i in range(n_outputs)]\n",
    "\tnetwork.append(output_layer)\n",
    "\treturn network\n",
    "\n",
    "# Make a prediction with a network\n",
    "def predict(network, row):\n",
    "\toutputs = forward_propagate(network, row)\n",
    "\treturn outputs.index(max(outputs))\n",
    "\n",
    "# Backpropagation Algorithm With Stochastic Gradient Descent\n",
    "def back_propagation(train, test, l_rate, n_epoch, n_hidden):\n",
    "\tn_inputs = len(train[0]) - 1\n",
    "\tn_outputs = len(set([row[-1] for row in train]))\n",
    "\tnetwork = initialize_network(n_inputs, n_hidden, n_outputs)\n",
    "\ttrain_network(network, train, l_rate, n_epoch, n_outputs)\n",
    "\tpredictions = list()\n",
    "\tfor row in test:\n",
    "\t\tprediction = predict(network, row)\n",
    "\t\tpredictions.append(prediction)\n",
    "\treturn(predictions)\n",
    "\n",
    "# Test Backprop on Seeds dataset\n",
    "seed(1)\n",
    "# load and prepare data\n",
    "filename = './data/seeds_dataset.csv'\n",
    "dataset = load_csv(filename)\n",
    "for i in range(len(dataset[0])-1):\n",
    "\tstr_column_to_float(dataset, i)\n",
    "# convert class column to integers\n",
    "str_column_to_int(dataset, len(dataset[0])-1)\n",
    "# normalize input variables\n",
    "minmax = dataset_minmax(dataset)\n",
    "normalize_dataset(dataset, minmax)\n",
    "# evaluate algorithm\n",
    "n_folds = 5\n",
    "l_rate = 0.3\n",
    "n_epoch = 500\n",
    "n_hidden = 5\n",
    "scores = evaluate_algorithm(dataset, back_propagation, n_folds, l_rate, n_epoch, n_hidden)\n",
    "print('Scores: %s' % scores)\n",
    "print('Mean Accuracy: %.3f%%' % (sum(scores)/float(len(scores))))"
   ]
  },
  {
   "cell_type": "code",
   "execution_count": null,
   "metadata": {},
   "outputs": [],
   "source": []
  }
 ]
}