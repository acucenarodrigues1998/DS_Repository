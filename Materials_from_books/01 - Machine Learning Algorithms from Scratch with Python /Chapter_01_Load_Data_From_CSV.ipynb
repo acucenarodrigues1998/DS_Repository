{
 "cells": [
  {
   "cell_type": "markdown",
   "metadata": {},
   "source": [
    "# Chapter 01 - Load Data From CSV"
   ]
  },
  {
   "cell_type": "code",
   "execution_count": 1,
   "metadata": {},
   "outputs": [],
   "source": [
    "# The reader() function is part of the CSV module\n",
    "from csv import reader "
   ]
  },
  {
   "cell_type": "markdown",
   "metadata": {},
   "source": [
    "## Functions to load CSV files"
   ]
  },
  {
   "cell_type": "markdown",
   "metadata": {},
   "source": [
    "#### First version of load_csv function. Bug: read empty lines"
   ]
  },
  {
   "cell_type": "code",
   "execution_count": 2,
   "metadata": {},
   "outputs": [],
   "source": [
    "# Load a CSV file\n",
    "def load_csv_v01(filename):\n",
    "    # Open the file\n",
    "    file = open(filename, \"r\") \n",
    "    # The function reader() reads the lines of the file\n",
    "    lines = reader(file)\n",
    "    # Transform the data in a list of lists\n",
    "    # First list: lines of dataset\n",
    "    # Second list: values for columns of dataset\n",
    "    dataset = list(lines)\n",
    "    return dataset"
   ]
  },
  {
   "cell_type": "markdown",
   "metadata": {},
   "source": [
    "#### Test version 01"
   ]
  },
  {
   "cell_type": "code",
   "execution_count": 3,
   "metadata": {},
   "outputs": [
    {
     "output_type": "stream",
     "name": "stdout",
     "text": [
      "Loaded data file ./data/pima-indians-diabetes.csv with 768 rows and 9 columns.\n"
     ]
    }
   ],
   "source": [
    "# Load dataset\n",
    "filename = './data/pima-indians-diabetes.csv'\n",
    "dataset = load_csv_v01(filename)\n",
    "print('Loaded data file {0} with {1} rows and {2} columns.'\n",
    "      .format(filename, len(dataset), len(dataset[0])))"
   ]
  },
  {
   "cell_type": "markdown",
   "metadata": {},
   "source": [
    "#### Second version of load_csv() function. Bug fixed"
   ]
  },
  {
   "cell_type": "code",
   "execution_count": 4,
   "metadata": {},
   "outputs": [],
   "source": [
    "# Load a CSV file\n",
    "def load_csv_v02(filename):\n",
    "    # Create a list to store the rows of data\n",
    "    dataset = list() \n",
    "    # With is used when we need close some resources after use\n",
    "    # Equivalent to try...finally\n",
    "    with open(filename, 'r') as file:\n",
    "        csv_reader = reader(file)\n",
    "        # Iterate by the dataset rows\n",
    "        for row in csv_reader:\n",
    "            # If it's an empty row, ignore\n",
    "            if not row:\n",
    "                continue \n",
    "            # If it's not an empty row, add to a list\n",
    "            dataset.append(row)\n",
    "    return dataset"
   ]
  },
  {
   "cell_type": "markdown",
   "metadata": {},
   "source": [
    "#### Test version 02"
   ]
  },
  {
   "cell_type": "code",
   "execution_count": 5,
   "metadata": {},
   "outputs": [
    {
     "output_type": "stream",
     "name": "stdout",
     "text": [
      "Loaded data file ./data/pima-indians-diabetes.csv with 768 rows and 9 columns.\n"
     ]
    }
   ],
   "source": [
    "# Load dataset\n",
    "filename = './data/pima-indians-diabetes.csv'\n",
    "dataset = load_csv_v02(filename)\n",
    "print('Loaded data file {0} with {1} rows and {2} columns.'\n",
    "      .format(filename, len(dataset), len(dataset[0])))"
   ]
  },
  {
   "cell_type": "markdown",
   "metadata": {},
   "source": [
    "### Convert strings to float\n",
    "\n",
    "* Machine learning algorithms prefer to work with floating point numbers."
   ]
  },
  {
   "cell_type": "code",
   "execution_count": 6,
   "metadata": {},
   "outputs": [
    {
     "output_type": "stream",
     "name": "stdout",
     "text": [
      "['6', '148', '72', '35', '0', '33.6', '0.627', '50', '1']\n"
     ]
    }
   ],
   "source": [
    "# Example of row\n",
    "print(dataset[0])"
   ]
  },
  {
   "cell_type": "code",
   "execution_count": 7,
   "metadata": {},
   "outputs": [],
   "source": [
    "def str_column_to_float(dataset, column):\n",
    "    # Iterate by all lines of the dataset\n",
    "    for row in dataset:\n",
    "        # The function strip guarentees that any whitespace\n",
    "        # are eliminated\n",
    "        row[column] = float(row[column].strip())"
   ]
  },
  {
   "cell_type": "code",
   "execution_count": 8,
   "metadata": {},
   "outputs": [
    {
     "output_type": "stream",
     "name": "stdout",
     "text": [
      "Loaded data file ./data/pima-indians-diabetes.csv with 768 rows and 9 columns.\n['6', '148', '72', '35', '0', '33.6', '0.627', '50', '1']\n[6.0, 148.0, 72.0, 35.0, 0.0, 33.6, 0.627, 50.0, 1.0]\n"
     ]
    }
   ],
   "source": [
    "# Load dataset\n",
    "filename = './data/pima-indians-diabetes.csv'\n",
    "dataset = load_csv_v02(filename)\n",
    "print('Loaded data file {0} with {1} rows and {2} columns.'\n",
    "      .format(filename, len(dataset), len(dataset[0])))\n",
    "\n",
    "print(dataset[0])\n",
    "\n",
    "# Testing the str_column_to_float() function\n",
    "for i in range(len(dataset[0])):\n",
    "    str_column_to_float(dataset, i)\n",
    "    \n",
    "print(dataset[0])"
   ]
  },
  {
   "cell_type": "markdown",
   "metadata": {},
   "source": [
    "### Convert string to integer"
   ]
  },
  {
   "cell_type": "code",
   "execution_count": 9,
   "metadata": {},
   "outputs": [],
   "source": [
    "def str_column_to_int(dataset, column):\n",
    "    # Get the label column\n",
    "    class_values = [row[column] for row in dataset]\n",
    "    # Use the set() functions to get the unique values\n",
    "    # set() characteristic: unordered and without repetition\n",
    "    unique = set(class_values)\n",
    "    # Create a dict to store the int values for each class\n",
    "    lookup = dict()\n",
    "    # Iterate by the unique values and assign\n",
    "    # an int value to each unique labe\n",
    "    for i, value in enumerate(unique):\n",
    "        lookup[value] = i\n",
    "    # Iterate by each row in the dataset and convert \n",
    "    # the str value to corresponding int value \n",
    "    for row in dataset:\n",
    "        row[column] = lookup[row[column]]\n",
    "    return lookup"
   ]
  },
  {
   "cell_type": "code",
   "execution_count": 10,
   "metadata": {},
   "outputs": [
    {
     "output_type": "stream",
     "name": "stdout",
     "text": [
      "Loaded data file ./data/iris.csv with 150 rows and 5 columns.\n['5.1', '3.5', '1.4', '0.2', 'Iris-setosa']\n[5.1, 3.5, 1.4, 0.2, 0]\n{'Iris-setosa': 0, 'Iris-versicolor': 1, 'Iris-virginica': 2}\n"
     ]
    }
   ],
   "source": [
    "# Load dataset\n",
    "filename = './data/iris.csv'\n",
    "dataset = load_csv_v02(filename)\n",
    "print('Loaded data file {0} with {1} rows and {2} columns.'\n",
    "      .format(filename, len(dataset), len(dataset[0])))\n",
    "\n",
    "print(dataset[0])\n",
    "\n",
    "# Testing the str_column_to_float() function\n",
    "for i in range(4):\n",
    "    str_column_to_float(dataset, i)\n",
    "    \n",
    "lookup = str_column_to_int(dataset, 4)\n",
    "    \n",
    "print(dataset[0])\n",
    "print(lookup)"
   ]
  },
  {
   "cell_type": "markdown",
   "metadata": {},
   "source": [
    "### Future works\n",
    "\n",
    "* Detect and remove empty lines at the top or bottom of the file.\n",
    "* Detect and handle missing values in a column.\n",
    "* Detect and handle rows that do not match expectations for the rest of the file.\n",
    "* Support for other delimiters such as pipe (|) or white space.\n",
    "* Support more efficient data structures such as arrays.\n",
    "\n",
    "Libs to use in real world projects: pandas and numpy"
   ]
  }
 ],
 "metadata": {
  "kernelspec": {
   "display_name": "Python 3",
   "language": "python",
   "name": "python3"
  },
  "language_info": {
   "codemirror_mode": {
    "name": "ipython",
    "version": 3
   },
   "file_extension": ".py",
   "mimetype": "text/x-python",
   "name": "python",
   "nbconvert_exporter": "python",
   "pygments_lexer": "ipython3",
   "version": "3.8.5-final"
  }
 },
 "nbformat": 4,
 "nbformat_minor": 4
}